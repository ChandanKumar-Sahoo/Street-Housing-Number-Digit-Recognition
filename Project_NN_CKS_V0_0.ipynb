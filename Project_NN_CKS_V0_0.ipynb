{
 "cells": [
  {
   "cell_type": "markdown",
   "metadata": {
    "id": "Cu76GqHh9ccu"
   },
   "source": [
    "## <span style=\"font-family: Algerian; font-weight:bold;font-size:2em;color:Red; center\"> Project on Neural Network:"
   ]
  },
  {
   "cell_type": "markdown",
   "metadata": {
    "id": "OTMf3ANVBfRB"
   },
   "source": [
    "## <span style=\"font-family: Arial; font-weight:bold;font-size:1.5em;color:Green;\">Contents:\n",
    "\n",
    "[Data Description](#Ds)\n",
    "\n",
    "[Objective](#O)\n",
    "\n",
    "[Steps, Tasks and Solution](#sts)\n",
    "\n",
    "\n",
    "\n",
    "<a id='the_destination'></a>"
   ]
  },
  {
   "cell_type": "markdown",
   "metadata": {
    "id": "K3VXqnNLBpgR"
   },
   "source": [
    "## <span style=\"font-family: Arial; font-weight:bold;font-size:1 em;color:#00b3e5;\"> Data Description\n",
    "<a id='Ds'></a>\n",
    "    <font color= darkblue>\n",
    "\n",
    "## *** Street View Housing Number (SVHN) digit Recognition***\n",
    "\n",
    "\n",
    "- Recognizing multi-digit numbers in photographs captured at street level is an important component of modern-day map making. A classic example of a corpus of such street-level photographs is Google’s Street View imagery comprised of hundreds of millions of geo-located 360-degree panoramic images. The ability to automatically transcribe an address number from a geo-located patch of pixels and associate the transcribed number with a known street address helps pinpoint, with a high degree of accuracy, the location of the building it represents. More broadly, recognizing numbers in photographs is a problem of interest to the optical character recognition community. While OCR on constrained domains like document processing is well studied, arbitrary multi-character text recognition in photographs is still highly challenging. This difficulty arises due to the wide variability in the visual appearance of text in the wild on account of a large range of fonts, colours, styles, orientations, and character arrangements. The recognition problem is further complicated by environmental factors such as lighting, shadows, specularities, and occlusions as well as by image acquisition factors such as resolution, motion, and focus blurs. \n",
    "\n",
    "- In this project, we will use the dataset with images centred around a single digit (many of the images do contain some distractors at the sides).\n",
    "\n",
    " \n",
    "- SVHN is a real-world image dataset for developing machine learning and object recognition algorithms with the minimal requirement on data formatting but comes from a significantly harder, unsolved, real-world problem (recognizing digits and numbers in natural scene images). SVHN is obtained from house numbers in Google Street View images.        \n",
    "        \n",
    " </font>"
   ]
  },
  {
   "cell_type": "markdown",
   "metadata": {
    "id": "7HQzqFfBEE64"
   },
   "source": [
    "## <span style=\"font-family: Arial; font-weight:bold;font-size:1 em;color:#00b3e5;\"> Objective\n",
    "<a id='O'></a> \n",
    "    <font color= Blue> The objective of the project is to learn how to implement a simple image classification pipeline based on a deep neural network and understand the basics of Image Classification\n",
    "    </font>"
   ]
  },
  {
   "cell_type": "markdown",
   "metadata": {
    "id": "RRCMv96IE-tv"
   },
   "source": [
    "## <span style=\"font-family: Arial; font-weight:bold;font-size:1 em;color:#00b3e5;\"> Steps, Tasks and Solutions\n",
    "<a id='sts'></a>\n",
    "    <font color=red>\n",
    "1. [Import the necessary libraries](#I)\n",
    "        \n",
    "2. [Read the data from the h5py file and understand the train/test splits](#R)\n",
    "\n",
    "        \n",
    "3. [Reshape and Normalize the train and test features](#RN)\n",
    "        \n",
    "           \n",
    "4. [One Hot encode the labels for train and test data](#OHE)\n",
    "   \n",
    "    \n",
    "5. [Define the model architecture using TensorFlow with- ](#MA)\n",
    "        \n",
    "    * a. Flatten Layer \n",
    "        \n",
    "    * b. Followed by Dense Layers with activation as ReLu \n",
    "         \n",
    "    * c. Followed by output layer with activation as Softmax \n",
    "               \n",
    "           \n",
    "6. [Compile the model with loss as categorical cross-entropy and Adam optimizers. Use accuracy as the metric for evaluation](#Adam)\n",
    "        \n",
    "  \n",
    "        \n",
    "7. [Fit and evaluate the model. Print the loss and accuracy for the test data](#F&E)\n",
    "                   \n",
    "\n",
    "8. [Hyper Parameter Tuning to enhance the model accuracy](#HPT)\n",
    "        \n",
    "    * a. [Manual Mode of operation](#HPTMM) \n",
    "        \n",
    "    * b. [Hyper parameter tuning using RandomSearch CV](#HPTRSCV) \n",
    "         \n",
    "    * c. [Observations on accurices](#OO) \n",
    "                 \n",
    "        \n",
    "9. [Summary](#C)\n",
    "     \n",
    "</font>\n",
    "    <a id='the_destination'></a>"
   ]
  },
  {
   "cell_type": "markdown",
   "metadata": {
    "id": "JN3cpTUTcBcg"
   },
   "source": [
    "## <span style=\"font-family: Arial; font-weight:bold;font-size:1 em;color:Purple;\"> 1. Import the necessary libraries\n",
    "<a id='I'></a>\n",
    "   "
   ]
  },
  {
   "cell_type": "code",
   "execution_count": 2,
   "metadata": {
    "colab": {
     "base_uri": "https://localhost:8080/"
    },
    "id": "8a0QXEo6jvpt",
    "outputId": "1b1474ad-8e1f-410e-d5c4-ca2b2fecfe63"
   },
   "outputs": [
    {
     "name": "stdout",
     "output_type": "stream",
     "text": [
      "Collecting keras-tuner\n",
      "\u001b[?25l  Downloading https://files.pythonhosted.org/packages/20/ec/1ef246787174b1e2bb591c95f29d3c1310070cad877824f907faba3dade9/keras-tuner-1.0.2.tar.gz (62kB)\n",
      "\r",
      "\u001b[K     |█████▏                          | 10kB 17.1MB/s eta 0:00:01\r",
      "\u001b[K     |██████████▍                     | 20kB 10.9MB/s eta 0:00:01\r",
      "\u001b[K     |███████████████▋                | 30kB 8.2MB/s eta 0:00:01\r",
      "\u001b[K     |████████████████████▉           | 40kB 7.4MB/s eta 0:00:01\r",
      "\u001b[K     |██████████████████████████      | 51kB 4.4MB/s eta 0:00:01\r",
      "\u001b[K     |███████████████████████████████▎| 61kB 5.0MB/s eta 0:00:01\r",
      "\u001b[K     |████████████████████████████████| 71kB 3.4MB/s \n",
      "\u001b[?25hRequirement already satisfied, skipping upgrade: packaging in /usr/local/lib/python3.6/dist-packages (from keras-tuner) (20.4)\n",
      "Requirement already satisfied, skipping upgrade: future in /usr/local/lib/python3.6/dist-packages (from keras-tuner) (0.16.0)\n",
      "Requirement already satisfied, skipping upgrade: numpy in /usr/local/lib/python3.6/dist-packages (from keras-tuner) (1.18.5)\n",
      "Requirement already satisfied, skipping upgrade: tabulate in /usr/local/lib/python3.6/dist-packages (from keras-tuner) (0.8.7)\n",
      "Collecting terminaltables\n",
      "  Downloading https://files.pythonhosted.org/packages/9b/c4/4a21174f32f8a7e1104798c445dacdc1d4df86f2f26722767034e4de4bff/terminaltables-3.1.0.tar.gz\n",
      "Collecting colorama\n",
      "  Downloading https://files.pythonhosted.org/packages/44/98/5b86278fbbf250d239ae0ecb724f8572af1c91f4a11edf4d36a206189440/colorama-0.4.4-py2.py3-none-any.whl\n",
      "Requirement already satisfied, skipping upgrade: tqdm in /usr/local/lib/python3.6/dist-packages (from keras-tuner) (4.41.1)\n",
      "Requirement already satisfied, skipping upgrade: requests in /usr/local/lib/python3.6/dist-packages (from keras-tuner) (2.23.0)\n",
      "Requirement already satisfied, skipping upgrade: scipy in /usr/local/lib/python3.6/dist-packages (from keras-tuner) (1.4.1)\n",
      "Requirement already satisfied, skipping upgrade: scikit-learn in /usr/local/lib/python3.6/dist-packages (from keras-tuner) (0.22.2.post1)\n",
      "Requirement already satisfied, skipping upgrade: six in /usr/local/lib/python3.6/dist-packages (from packaging->keras-tuner) (1.15.0)\n",
      "Requirement already satisfied, skipping upgrade: pyparsing>=2.0.2 in /usr/local/lib/python3.6/dist-packages (from packaging->keras-tuner) (2.4.7)\n",
      "Requirement already satisfied, skipping upgrade: chardet<4,>=3.0.2 in /usr/local/lib/python3.6/dist-packages (from requests->keras-tuner) (3.0.4)\n",
      "Requirement already satisfied, skipping upgrade: idna<3,>=2.5 in /usr/local/lib/python3.6/dist-packages (from requests->keras-tuner) (2.10)\n",
      "Requirement already satisfied, skipping upgrade: certifi>=2017.4.17 in /usr/local/lib/python3.6/dist-packages (from requests->keras-tuner) (2020.6.20)\n",
      "Requirement already satisfied, skipping upgrade: urllib3!=1.25.0,!=1.25.1,<1.26,>=1.21.1 in /usr/local/lib/python3.6/dist-packages (from requests->keras-tuner) (1.24.3)\n",
      "Requirement already satisfied, skipping upgrade: joblib>=0.11 in /usr/local/lib/python3.6/dist-packages (from scikit-learn->keras-tuner) (0.17.0)\n",
      "Building wheels for collected packages: keras-tuner, terminaltables\n",
      "  Building wheel for keras-tuner (setup.py) ... \u001b[?25l\u001b[?25hdone\n",
      "  Created wheel for keras-tuner: filename=keras_tuner-1.0.2-cp36-none-any.whl size=78937 sha256=d069e3582da5f5b8d0820ec361d716fd43da969c4cb5113fbf8d067c0fc656ef\n",
      "  Stored in directory: /root/.cache/pip/wheels/bb/a1/8a/7c3de0efb3707a1701b36ebbfdbc4e67aedf6d4943a1f463d6\n",
      "  Building wheel for terminaltables (setup.py) ... \u001b[?25l\u001b[?25hdone\n",
      "  Created wheel for terminaltables: filename=terminaltables-3.1.0-cp36-none-any.whl size=15356 sha256=8e435c9377aadcabe4f24b5468fef8b7c63810390e4cda33802203c24e46b9fe\n",
      "  Stored in directory: /root/.cache/pip/wheels/30/6b/50/6c75775b681fb36cdfac7f19799888ef9d8813aff9e379663e\n",
      "Successfully built keras-tuner terminaltables\n",
      "Installing collected packages: terminaltables, colorama, keras-tuner\n",
      "Successfully installed colorama-0.4.4 keras-tuner-1.0.2 terminaltables-3.1.0\n"
     ]
    }
   ],
   "source": [
    "pip install -U keras-tuner"
   ]
  },
  {
   "cell_type": "code",
   "execution_count": 3,
   "metadata": {
    "colab": {
     "base_uri": "https://localhost:8080/"
    },
    "id": "KKx9vbdf8HUi",
    "outputId": "f7926501-5ada-4488-97f6-ce76ac48f426"
   },
   "outputs": [
    {
     "name": "stdout",
     "output_type": "stream",
     "text": [
      "2.3.0\n"
     ]
    }
   ],
   "source": [
    "# used to supress display of warnings\n",
    "import warnings\n",
    "\n",
    "# os is used to provide a way of using operating system dependent functionality\n",
    "# We use it for setting working folder\n",
    "import os\n",
    "\n",
    "# Pandas is used for data manipulation and analysis\n",
    "import pandas as pd \n",
    "\n",
    "# Numpy is used for large, multi-dimensional arrays and matrices, along with mathematical operators on these arrays\n",
    "import numpy as np\n",
    "\n",
    "# Matplotlib is a data visualization library for 2D plots of arrays, built on NumPy arrays \n",
    "# and designed to work with the broader SciPy stack\n",
    "import matplotlib.pyplot as plt\n",
    "%matplotlib inline\n",
    "from matplotlib import pyplot\n",
    "\n",
    "# Seaborn is based on matplotlib, which aids in drawing attractive and informative statistical graphics.\n",
    "import seaborn as sns\n",
    "import tensorflow \n",
    "\n",
    "# For HyperParameter Tuning\n",
    "from tensorflow import keras\n",
    "from tensorflow.keras import layers\n",
    "from kerastuner.tuners import RandomSearch\n",
    "\n",
    "print(tensorflow.__version__)"
   ]
  },
  {
   "cell_type": "code",
   "execution_count": 4,
   "metadata": {
    "id": "mR7cegHO8MJo"
   },
   "outputs": [],
   "source": [
    "# suppress display of warnings\n",
    "warnings.filterwarnings('ignore')\n",
    "\n",
    "# display all dataframe columns\n",
    "pd.options.display.max_columns = None\n",
    "\n",
    "# to set the limit to 3 decimals\n",
    "pd.options.display.float_format = '{:.7f}'.format\n",
    "\n",
    "# display all dataframe rows\n",
    "pd.options.display.max_rows = None"
   ]
  },
  {
   "cell_type": "markdown",
   "metadata": {
    "id": "7nXNXLL2cJ_0"
   },
   "source": [
    "## <span style=\"font-family: Arial; font-weight:bold;font-size:1 em;color:Purple;\"> 2. Read the data from the h5py file and understand the train/test splits\n",
    "<a id='R'></a>\n",
    "   "
   ]
  },
  {
   "cell_type": "code",
   "execution_count": 5,
   "metadata": {
    "colab": {
     "base_uri": "https://localhost:8080/"
    },
    "id": "trMl-fB98O1l",
    "outputId": "5a39cd60-1dbc-48bc-8618-4447a05b5b90"
   },
   "outputs": [
    {
     "name": "stdout",
     "output_type": "stream",
     "text": [
      "Mounted at /content/gdrive\n"
     ]
    }
   ],
   "source": [
    "from google.colab import drive\n",
    "drive.mount(\"/content/gdrive\")"
   ]
  },
  {
   "cell_type": "code",
   "execution_count": 6,
   "metadata": {
    "colab": {
     "base_uri": "https://localhost:8080/"
    },
    "id": "BtDDENDaAKfq",
    "outputId": "74d2ff22-2dc5-487b-d788-fad7cb59db73"
   },
   "outputs": [
    {
     "data": {
      "text/plain": [
       "<KeysViewHDF5 ['X_test', 'X_train', 'X_val', 'y_test', 'y_train', 'y_val']>"
      ]
     },
     "execution_count": 6,
     "metadata": {
      "tags": []
     },
     "output_type": "execute_result"
    }
   ],
   "source": [
    "import h5py\n",
    "\n",
    "# Open the file as readonly\n",
    "prj = h5py.File('/content/gdrive/MyDrive/NN_project/SVHN_single_grey1.h5', 'r')\n",
    "\n",
    "prj.keys()"
   ]
  },
  {
   "cell_type": "code",
   "execution_count": 7,
   "metadata": {
    "id": "SbQ4dBncAOal"
   },
   "outputs": [],
   "source": [
    "# Load the training, test and validation set\n",
    "X_train = prj['X_train'][:]\n",
    "y_train = prj['y_train'][:]\n",
    "X_test = prj['X_test'][:]\n",
    "y_test = prj['y_test'][:]"
   ]
  },
  {
   "cell_type": "markdown",
   "metadata": {
    "id": "r2O2k6aCnZW6"
   },
   "source": [
    "- X_train and X_test contain greyscale RGB codes (from 0 to 255) while y_train and y_test contains labels from 0 to 9 which represents the number they actually are."
   ]
  },
  {
   "cell_type": "code",
   "execution_count": 8,
   "metadata": {
    "colab": {
     "base_uri": "https://localhost:8080/"
    },
    "id": "ZP2S4wAUASTf",
    "outputId": "b8ecf653-15d6-49e9-f4dc-2949c1cadf6a"
   },
   "outputs": [
    {
     "data": {
      "text/plain": [
       "array([[[ 33.0704,  30.2601,  26.852 , ...,  71.4471,  58.2204,\n",
       "          42.9939],\n",
       "        [ 25.2283,  25.5533,  29.9765, ..., 113.0209, 103.3639,\n",
       "          84.2949],\n",
       "        [ 26.2775,  22.6137,  40.4763, ..., 113.3028, 121.775 ,\n",
       "         115.4228],\n",
       "        ...,\n",
       "        [ 28.5502,  36.212 ,  45.0801, ...,  24.1359,  25.0927,\n",
       "          26.0603],\n",
       "        [ 38.4352,  26.4733,  23.2717, ...,  28.1094,  29.4683,\n",
       "          30.0661],\n",
       "        [ 50.2984,  26.0773,  24.0389, ...,  49.6682,  50.853 ,\n",
       "          53.0377]]], dtype=float32)"
      ]
     },
     "execution_count": 8,
     "metadata": {
      "tags": []
     },
     "output_type": "execute_result"
    }
   ],
   "source": [
    "X_train[:1]"
   ]
  },
  {
   "cell_type": "code",
   "execution_count": 9,
   "metadata": {
    "colab": {
     "base_uri": "https://localhost:8080/"
    },
    "id": "pb2G_VuBAZ00",
    "outputId": "607cb381-3585-467e-99e7-6900c3910026"
   },
   "outputs": [
    {
     "data": {
      "text/plain": [
       "array([2], dtype=uint8)"
      ]
     },
     "execution_count": 9,
     "metadata": {
      "tags": []
     },
     "output_type": "execute_result"
    }
   ],
   "source": [
    "y_train[:1]"
   ]
  },
  {
   "cell_type": "code",
   "execution_count": 10,
   "metadata": {
    "colab": {
     "base_uri": "https://localhost:8080/"
    },
    "id": "Ndey96zjAbUn",
    "outputId": "31936a16-486b-4b2b-b62f-75ec603f9c5e"
   },
   "outputs": [
    {
     "data": {
      "text/plain": [
       "array([[[ 40.558 ,  46.7917,  48.9764, ..., 112.1153, 112.9904,\n",
       "         112.1646],\n",
       "        [ 39.4379,  44.2911,  47.1768, ..., 111.0122, 110.9475,\n",
       "         109.9368],\n",
       "        [ 38.4488,  43.6394,  48.7098, ..., 109.8921, 109.9414,\n",
       "         109.1048],\n",
       "        ...,\n",
       "        [ 34.9869,  35.4707,  39.6676, ..., 109.211 , 109.9074,\n",
       "         112.7346],\n",
       "        [ 35.6602,  35.5462,  40.3193, ..., 110.9998, 112.049 ,\n",
       "         114.3431],\n",
       "        [ 36.1871,  35.4214,  40.6998, ..., 110.0169, 111.2017,\n",
       "         114.1906]]], dtype=float32)"
      ]
     },
     "execution_count": 10,
     "metadata": {
      "tags": []
     },
     "output_type": "execute_result"
    }
   ],
   "source": [
    "X_test[:1]"
   ]
  },
  {
   "cell_type": "markdown",
   "metadata": {
    "id": "k1D5SRFYcWGO"
   },
   "source": [
    "## <span style=\"font-family: Arial; font-weight:bold;font-size:1 em;color:Purple;\"> 3. Visualize, Reshape and Normalize the train and test features\n",
    "<a id='RN'></a>\n",
    "   "
   ]
  },
  {
   "cell_type": "code",
   "execution_count": 11,
   "metadata": {
    "colab": {
     "base_uri": "https://localhost:8080/",
     "height": 285
    },
    "id": "gNdiMnY2AcpI",
    "outputId": "4ca24326-3c86-47ca-87d5-ee7d6dac0443"
   },
   "outputs": [
    {
     "name": "stdout",
     "output_type": "stream",
     "text": [
      "Label: 1\n"
     ]
    },
    {
     "data": {
      "image/png": "[encoded data removed]",
      "text/plain": [
       "<Figure size 432x288 with 1 Axes>"
      ]
     },
     "metadata": {
      "needs_background": "light",
      "tags": []
     },
     "output_type": "display_data"
    }
   ],
   "source": [
    "%matplotlib inline\n",
    "import matplotlib.pyplot as plt\n",
    "\n",
    "print(\"Label: {}\".format(y_train[16000]))\n",
    "plt.imshow(X_train[16000], cmap='gray');"
   ]
  },
  {
   "cell_type": "code",
   "execution_count": 12,
   "metadata": {
    "colab": {
     "base_uri": "https://localhost:8080/",
     "height": 96
    },
    "id": "7ELILaDlAed5",
    "outputId": "cd2c0205-2df6-4f98-8037-80b918020c16"
   },
   "outputs": [
    {
     "data": {
      "image/png": "[encoded data removed]",
      "text/plain": [
       "<Figure size 1080x72 with 15 Axes>"
      ]
     },
     "metadata": {
      "needs_background": "light",
      "tags": []
     },
     "output_type": "display_data"
    },
    {
     "name": "stdout",
     "output_type": "stream",
     "text": [
      "label for each of the above image: [2 6 7 4 4 0 3 0 7 3 1 0 1 3 1]\n"
     ]
    }
   ],
   "source": [
    "# Visualizing 1st 11 images in the dataset and their labels\n",
    "%matplotlib inline\n",
    "import matplotlib.pyplot as plt\n",
    "plt.figure(figsize = (15,1))\n",
    "for i in range (15):\n",
    "    plt.subplot(1, 15, i+1)\n",
    "    plt.imshow(X_train[i], cmap = 'gray')\n",
    "    plt.axis('off')\n",
    "plt.show()\n",
    "print('label for each of the above image: %s' % (y_train[0:15]))"
   ]
  },
  {
   "cell_type": "code",
   "execution_count": 13,
   "metadata": {
    "colab": {
     "base_uri": "https://localhost:8080/",
     "height": 285
    },
    "id": "CIumd3uzAgjm",
    "outputId": "4e0058d4-8dc7-4b60-e9a3-8947f03c4f4d"
   },
   "outputs": [
    {
     "name": "stdout",
     "output_type": "stream",
     "text": [
      "Label: 2\n"
     ]
    },
    {
     "data": {
      "image/png": "[encoded data removed]",
      "text/plain": [
       "<Figure size 432x288 with 1 Axes>"
      ]
     },
     "metadata": {
      "needs_background": "light",
      "tags": []
     },
     "output_type": "display_data"
    }
   ],
   "source": [
    "%matplotlib inline\n",
    "import matplotlib.pyplot as plt\n",
    "# plt.figure(figsize = (15,5))\n",
    "print(\"Label: {}\".format(y_train[6000]))\n",
    "plt.imshow(X_train[6000], cmap='gray');"
   ]
  },
  {
   "cell_type": "code",
   "execution_count": 14,
   "metadata": {
    "colab": {
     "base_uri": "https://localhost:8080/"
    },
    "id": "AkQSxBqIAiJ8",
    "outputId": "d7f16b0e-0dfb-42ca-c7aa-7e5b5e5e2a09"
   },
   "outputs": [
    {
     "name": "stdout",
     "output_type": "stream",
     "text": [
      "(42000, 32, 32)\n",
      "(42000,)\n",
      "(18000, 32, 32)\n",
      "(18000,)\n"
     ]
    }
   ],
   "source": [
    "print(X_train.shape)\n",
    "print(y_train.shape)\n",
    "print(X_test.shape)\n",
    "print(y_test.shape)"
   ]
  },
  {
   "cell_type": "markdown",
   "metadata": {
    "id": "706wpd_QoQ-I"
   },
   "source": [
    "42,000 train data each of size 32 x 32 and 42,000 corrosponding y_test data.\n",
    "\n",
    "Similarly 18,000 test data each of size 32 x 32"
   ]
  },
  {
   "cell_type": "markdown",
   "metadata": {
    "id": "21KUcMpHo1PF"
   },
   "source": [
    "### Reshape the data\n",
    "\n",
    "- Our network (fully connected layer) will take data in vector form not in matrix form, so reshaping the data helps us to feed our network as per requirement.\n",
    "- This reshape feature will make each image as single row or a vector and feed it to network.\n",
    "- i.e. reshape() method gives a new shape to an array without changing its data."
   ]
  },
  {
   "cell_type": "code",
   "execution_count": 15,
   "metadata": {
    "colab": {
     "base_uri": "https://localhost:8080/"
    },
    "id": "wRzTO1MxAjmd",
    "outputId": "c7585af6-32f5-49d5-d4c3-800202d3e5a5"
   },
   "outputs": [
    {
     "name": "stdout",
     "output_type": "stream",
     "text": [
      "(42000, 32, 32)\n",
      "(18000, 32, 32)\n",
      "Resized Training Set (42000, 1024, 1) (42000,)\n",
      "Resized Test Set (18000, 1024, 1) (18000,)\n"
     ]
    }
   ],
   "source": [
    "print(X_train.shape)\n",
    "print(X_test.shape)\n",
    "\n",
    "X_train = X_train.reshape(X_train.shape[0], 1024,1)\n",
    "X_test = X_test.reshape(X_test.shape[0], 1024, 1)\n",
    "\n",
    "\n",
    "print('Resized Training Set', X_train.shape, y_train.shape)\n",
    "print('Resized Test Set', X_test.shape, y_test.shape)"
   ]
  },
  {
   "cell_type": "markdown",
   "metadata": {
    "id": "FmzV5c_CrTHi"
   },
   "source": [
    "### Normalize data\n",
    "\n",
    "- We must normalize our data as it is always required in neural network models\n",
    "- we can achieve this by dividing the RGB codes with 255 (which is the maximum RGB code minus the minimum RGB code)\n",
    "- So we will normalize features from 0-255 to 0-1.\n",
    "- Here, we'll be normalizing X_train and X_test"
   ]
  },
  {
   "cell_type": "code",
   "execution_count": 16,
   "metadata": {
    "colab": {
     "base_uri": "https://localhost:8080/"
    },
    "id": "wCuQglkOAlSa",
    "outputId": "0484657a-c341-4a8a-d229-362ee6223cd7"
   },
   "outputs": [
    {
     "name": "stdout",
     "output_type": "stream",
     "text": [
      "254.9745\n",
      "0.0\n",
      "0.9999\n",
      "0.0\n"
     ]
    }
   ],
   "source": [
    "# Normalize inputs from 0-255 to 0-1\n",
    "X_train = X_train.astype('float32')\n",
    "X_test = X_test.astype('float32')\n",
    "\n",
    "print(X_train.max())\n",
    "print(X_train.min())\n",
    "\n",
    "X_train = X_train / 255.0\n",
    "X_test = X_test / 255.0\n",
    "\n",
    "print(X_train.max())\n",
    "print(X_train.min())"
   ]
  },
  {
   "cell_type": "markdown",
   "metadata": {
    "id": "tRLqbIZOdACt"
   },
   "source": [
    "## <span style=\"font-family: Arial; font-weight:bold;font-size:1 em;color:Purple;\"> 4. One Hot encode the labels for train and test data\n",
    "<a id='OHE'></a>\n",
    "   "
   ]
  },
  {
   "cell_type": "markdown",
   "metadata": {
    "id": "QyvGm8ivtM33"
   },
   "source": [
    "- Converts class vectors to (integers) to binary class matrix\n",
    "- convert y_train adn y_test\n",
    "- Number of classes: 10 \n",
    "- This is done to use categorical_crossentropy as loss"
   ]
  },
  {
   "cell_type": "code",
   "execution_count": 17,
   "metadata": {
    "colab": {
     "base_uri": "https://localhost:8080/"
    },
    "id": "uZGR-jsyAz2G",
    "outputId": "720f2824-9f5f-4d65-a221-b22347524faf"
   },
   "outputs": [
    {
     "name": "stdout",
     "output_type": "stream",
     "text": [
      "Shape of y_train: (42000, 10)\n",
      "The number of classes in this dataset are: 10\n",
      "[0. 1. 0. 0. 0. 0. 0. 0. 0. 0.]\n"
     ]
    }
   ],
   "source": [
    "from tensorflow.keras.utils import to_categorical\n",
    "# one hot encode outputs\n",
    "y_train = to_categorical(y_train)\n",
    "y_test = to_categorical(y_test)\n",
    "\n",
    "# no. of classes\n",
    "num_classes = y_test.shape[1]\n",
    "print('Shape of y_train:', y_train.shape)\n",
    "print('The number of classes in this dataset are:', num_classes)\n",
    "print(y_train[10])\n"
   ]
  },
  {
   "cell_type": "markdown",
   "metadata": {
    "id": "GJ4v4qOBuClZ"
   },
   "source": [
    "- Now ahape of y_train is (42000, 10) instead of 42000, this is because we have 10 labels now."
   ]
  },
  {
   "cell_type": "markdown",
   "metadata": {
    "id": "lkehooradIO7"
   },
   "source": [
    "## <span style=\"font-family: Arial; font-weight:bold;font-size:1 em;color:Purple;\"> 5. Define the model architecture using TensorFlow with-\n",
    "<a id='MA'></a>"
   ]
  },
  {
   "cell_type": "markdown",
   "metadata": {
    "id": "r5Z4Z0sVugBX"
   },
   "source": [
    "#### Initializing a sequential model\n",
    "- Define a sequential model\n",
    "- Flatten the data\n",
    "  - add a Flatten layer\n",
    "  - Flatten layers flatten 2D arrays to 1D array before building the fully connected layers\n",
    "- Add 2 Dense layers\n",
    "  - Number of neurons in first layer: 128\n",
    "  - Activation layer in first layer is relu\n",
    "  - Number of neurons in last layer: number of classes\n",
    "  - Activation function in last layers is softmax\n",
    "\n",
    "- We can experiment with any number of neurons for the first Dense layer; however, the final Dense layer must have neurons equal to the number of output classes."
   ]
  },
  {
   "cell_type": "code",
   "execution_count": 18,
   "metadata": {
    "id": "ucuM7AnmA1zx"
   },
   "outputs": [],
   "source": [
    "from tensorflow.keras.models import Sequential\n",
    "from keras.layers import Flatten, Dense\n",
    "model = Sequential()\n",
    "model.add(Flatten())\n",
    "model.add(Dense(128, activation = 'relu'))\n",
    "model.add(Dense(10, activation = 'softmax'))"
   ]
  },
  {
   "cell_type": "markdown",
   "metadata": {
    "id": "EzCeAOE_dVIt"
   },
   "source": [
    "## <span style=\"font-family: Arial; font-weight:bold;font-size:1 em;color:Purple;\"> 6. Compile the model with loss as categorical cross-entropy and Adam optimizers. Use accuracy as the metric for evaluation\n",
    "<a id='Adam'></a>"
   ]
  },
  {
   "cell_type": "markdown",
   "metadata": {
    "id": "K5BzQyQowTHb"
   },
   "source": [
    "- Compiling our model\n",
    "  - loss: 'categorical_crossentropy'\n",
    "  - metrics: 'accuracy'\n",
    "  - optimizers: 'adam'\n",
    "- Fitting the model to train data and validate the data\n",
    "  - given train data: training features and labels\n",
    "  - batch size: 32\n",
    "  - epochs: 10\n",
    "  - validation data: test features and labels"
   ]
  },
  {
   "cell_type": "code",
   "execution_count": 19,
   "metadata": {
    "colab": {
     "base_uri": "https://localhost:8080/"
    },
    "id": "_VtnqKsMA6NC",
    "outputId": "b805c512-586c-42fd-8fb6-125c0e656758"
   },
   "outputs": [
    {
     "name": "stdout",
     "output_type": "stream",
     "text": [
      "Epoch 1/10\n",
      "1313/1313 [==============================] - 4s 3ms/step - loss: 2.2967 - accuracy: 0.1107 - val_loss: 2.2502 - val_accuracy: 0.1287\n",
      "Epoch 2/10\n",
      "1313/1313 [==============================] - 3s 2ms/step - loss: 2.1671 - accuracy: 0.1674 - val_loss: 2.0689 - val_accuracy: 0.2292\n",
      "Epoch 3/10\n",
      "1313/1313 [==============================] - 3s 2ms/step - loss: 2.0427 - accuracy: 0.2245 - val_loss: 2.0184 - val_accuracy: 0.2338\n",
      "Epoch 4/10\n",
      "1313/1313 [==============================] - 3s 2ms/step - loss: 2.0071 - accuracy: 0.2367 - val_loss: 1.9980 - val_accuracy: 0.2453\n",
      "Epoch 5/10\n",
      "1313/1313 [==============================] - 3s 3ms/step - loss: 1.9914 - accuracy: 0.2431 - val_loss: 1.9901 - val_accuracy: 0.2462\n",
      "Epoch 6/10\n",
      "1313/1313 [==============================] - 3s 2ms/step - loss: 1.9843 - accuracy: 0.2455 - val_loss: 1.9828 - val_accuracy: 0.2538\n",
      "Epoch 7/10\n",
      "1313/1313 [==============================] - 3s 2ms/step - loss: 1.9772 - accuracy: 0.2481 - val_loss: 1.9794 - val_accuracy: 0.2586\n",
      "Epoch 8/10\n",
      "1313/1313 [==============================] - 3s 2ms/step - loss: 1.9731 - accuracy: 0.2513 - val_loss: 1.9686 - val_accuracy: 0.2627\n",
      "Epoch 9/10\n",
      "1313/1313 [==============================] - 3s 2ms/step - loss: 1.9670 - accuracy: 0.2565 - val_loss: 1.9777 - val_accuracy: 0.2603\n",
      "Epoch 10/10\n",
      "1313/1313 [==============================] - 3s 3ms/step - loss: 1.9633 - accuracy: 0.2563 - val_loss: 1.9784 - val_accuracy: 0.2471\n"
     ]
    },
    {
     "data": {
      "text/plain": [
       "<tensorflow.python.keras.callbacks.History at 0x7f2dc37a14e0>"
      ]
     },
     "execution_count": 19,
     "metadata": {
      "tags": []
     },
     "output_type": "execute_result"
    }
   ],
   "source": [
    "model.compile(loss = 'categorical_crossentropy', metrics = ['accuracy'], optimizer = 'Adam')\n",
    "\n",
    "model.fit(x = X_train, y= y_train, batch_size=32, epochs= 10, validation_data = (X_test, y_test))"
   ]
  },
  {
   "cell_type": "markdown",
   "metadata": {
    "id": "cUVlIqSGzitv"
   },
   "source": [
    "#### Initializing a sequential model\n",
    "- Define a sequential model\n",
    "- Flatten the data\n",
    "  - add a Flatten layer\n",
    "  - Flatten layers flatten 2D arrays to 1D array before building the fully connected layers\n",
    "- Add 5 Dense layers\n",
    "  - Number of neurons in first layer: 256\n",
    "  - Activation layer in first layer is relu\n",
    "  - Number of neurons in second layer: 128\n",
    "  - Activation layer in first layer is relu\n",
    "  - Number of neurons in third layer: 64\n",
    "  - Activation layer in third layer is relu\n",
    "  - Number of neurons in fourth layer: 32\n",
    "  - Activation layer in fourth layer is relu\n",
    "  - Number of neurons in last layer: number of classes\n",
    "  - Activation function in last layers is softmax\n",
    "\n",
    "- We can experiment with any number of neurons for the first Dense layer; however, the final Dense layer must have neurons equal to the number of output classes."
   ]
  },
  {
   "cell_type": "code",
   "execution_count": 20,
   "metadata": {
    "id": "D99K4WRVRqud"
   },
   "outputs": [],
   "source": [
    "from tensorflow.keras.models import Sequential\n",
    "from tensorflow.keras.layers import Dense, Flatten\n",
    "from tensorflow.keras import regularizers, optimizers\n",
    "\n",
    "def nn_model():\n",
    "    # create model\n",
    "    \n",
    "    model = Sequential()  \n",
    "    model.add(Flatten())\n",
    "    model.add(Dense(256, input_shape = (1024,), activation='relu')) ###Multiple Dense units with Relu activation\n",
    "    model.add(Dense(128, activation='relu'))\n",
    "    model.add(Dense(64, activation='relu'))\n",
    "    model.add(Dense(32, activation='relu'))\n",
    "    model.add(Dense(num_classes, activation='softmax'))\n",
    "    return model"
   ]
  },
  {
   "cell_type": "code",
   "execution_count": 21,
   "metadata": {
    "id": "s4t64vi5SEhE"
   },
   "outputs": [],
   "source": [
    "model = nn_model()"
   ]
  },
  {
   "cell_type": "markdown",
   "metadata": {
    "id": "U7nOH7zAdnYx"
   },
   "source": [
    "## <span style=\"font-family: Arial; font-weight:bold;font-size:1 em;color:Purple;\"> 7. Fit and evaluate the model. Print the loss and accuracy for the test data\n",
    "<a id='F&E'></a>"
   ]
  },
  {
   "cell_type": "markdown",
   "metadata": {
    "id": "TeW8hXT20TA6"
   },
   "source": [
    "- Compiling our model\n",
    "  - loss: 'categorical_crossentropy'\n",
    "  - metrics: 'accuracy'\n",
    "  - optimizers: 'adam', with learning rate: 1e-3\n",
    "- Fitting the model to train data and validate the data\n",
    "  - given train data: training features and labels\n",
    "  - batch size: 300\n",
    "  - epochs: 100\n",
    "  - verbose = 2\n",
    "  - validation data: test features and labels"
   ]
  },
  {
   "cell_type": "code",
   "execution_count": 22,
   "metadata": {
    "id": "wmY-nxD4SEq3"
   },
   "outputs": [],
   "source": [
    "opt = optimizers.Adam(lr = 1e-3)\n",
    "model.compile(loss = 'categorical_crossentropy', optimizer = opt, metrics = ['accuracy'] )\n",
    "# Loss function = Categorical cross entropy"
   ]
  },
  {
   "cell_type": "code",
   "execution_count": 23,
   "metadata": {
    "colab": {
     "base_uri": "https://localhost:8080/"
    },
    "id": "bBt3n9XiSE1U",
    "outputId": "7341eccc-88bf-4b57-e98c-4f9d7ae013dd"
   },
   "outputs": [
    {
     "name": "stdout",
     "output_type": "stream",
     "text": [
      "Epoch 1/100\n",
      "140/140 - 2s - loss: 2.2953 - accuracy: 0.1163 - val_loss: 2.2345 - val_accuracy: 0.1733\n",
      "Epoch 2/100\n",
      "140/140 - 2s - loss: 2.0461 - accuracy: 0.2552 - val_loss: 1.7281 - val_accuracy: 0.4023\n",
      "Epoch 3/100\n",
      "140/140 - 2s - loss: 1.5939 - accuracy: 0.4503 - val_loss: 1.4834 - val_accuracy: 0.4836\n",
      "Epoch 4/100\n",
      "140/140 - 2s - loss: 1.3845 - accuracy: 0.5346 - val_loss: 1.2758 - val_accuracy: 0.5817\n",
      "Epoch 5/100\n",
      "140/140 - 2s - loss: 1.2550 - accuracy: 0.5920 - val_loss: 1.2067 - val_accuracy: 0.6116\n",
      "Epoch 6/100\n",
      "140/140 - 2s - loss: 1.1671 - accuracy: 0.6256 - val_loss: 1.0992 - val_accuracy: 0.6499\n",
      "Epoch 7/100\n",
      "140/140 - 2s - loss: 1.0998 - accuracy: 0.6500 - val_loss: 1.0998 - val_accuracy: 0.6495\n",
      "Epoch 8/100\n",
      "140/140 - 2s - loss: 1.0398 - accuracy: 0.6736 - val_loss: 1.0316 - val_accuracy: 0.6824\n",
      "Epoch 9/100\n",
      "140/140 - 2s - loss: 0.9920 - accuracy: 0.6918 - val_loss: 0.9601 - val_accuracy: 0.7097\n",
      "Epoch 10/100\n",
      "140/140 - 2s - loss: 0.9522 - accuracy: 0.7044 - val_loss: 0.9676 - val_accuracy: 0.6986\n",
      "Epoch 11/100\n",
      "140/140 - 2s - loss: 0.9090 - accuracy: 0.7165 - val_loss: 0.9038 - val_accuracy: 0.7249\n",
      "Epoch 12/100\n",
      "140/140 - 2s - loss: 0.8849 - accuracy: 0.7271 - val_loss: 0.9093 - val_accuracy: 0.7190\n",
      "Epoch 13/100\n",
      "140/140 - 2s - loss: 0.8523 - accuracy: 0.7363 - val_loss: 0.8534 - val_accuracy: 0.7390\n",
      "Epoch 14/100\n",
      "140/140 - 2s - loss: 0.8404 - accuracy: 0.7395 - val_loss: 0.8778 - val_accuracy: 0.7319\n",
      "Epoch 15/100\n",
      "140/140 - 2s - loss: 0.8077 - accuracy: 0.7522 - val_loss: 0.8572 - val_accuracy: 0.7392\n",
      "Epoch 16/100\n",
      "140/140 - 2s - loss: 0.7896 - accuracy: 0.7553 - val_loss: 0.8236 - val_accuracy: 0.7522\n",
      "Epoch 17/100\n",
      "140/140 - 2s - loss: 0.7712 - accuracy: 0.7622 - val_loss: 0.8184 - val_accuracy: 0.7499\n",
      "Epoch 18/100\n",
      "140/140 - 2s - loss: 0.7542 - accuracy: 0.7671 - val_loss: 0.8070 - val_accuracy: 0.7580\n",
      "Epoch 19/100\n",
      "140/140 - 2s - loss: 0.7284 - accuracy: 0.7747 - val_loss: 0.7769 - val_accuracy: 0.7671\n",
      "Epoch 20/100\n",
      "140/140 - 2s - loss: 0.7147 - accuracy: 0.7789 - val_loss: 0.7489 - val_accuracy: 0.7765\n",
      "Epoch 21/100\n",
      "140/140 - 2s - loss: 0.7021 - accuracy: 0.7852 - val_loss: 0.7716 - val_accuracy: 0.7702\n",
      "Epoch 22/100\n",
      "140/140 - 2s - loss: 0.6896 - accuracy: 0.7868 - val_loss: 0.7683 - val_accuracy: 0.7693\n",
      "Epoch 23/100\n",
      "140/140 - 2s - loss: 0.6768 - accuracy: 0.7905 - val_loss: 0.7405 - val_accuracy: 0.7829\n",
      "Epoch 24/100\n",
      "140/140 - 2s - loss: 0.6593 - accuracy: 0.7964 - val_loss: 0.7250 - val_accuracy: 0.7866\n",
      "Epoch 25/100\n",
      "140/140 - 2s - loss: 0.6438 - accuracy: 0.8012 - val_loss: 0.7277 - val_accuracy: 0.7836\n",
      "Epoch 26/100\n",
      "140/140 - 2s - loss: 0.6336 - accuracy: 0.8046 - val_loss: 0.7154 - val_accuracy: 0.7902\n",
      "Epoch 27/100\n",
      "140/140 - 2s - loss: 0.6287 - accuracy: 0.8063 - val_loss: 0.7409 - val_accuracy: 0.7796\n",
      "Epoch 28/100\n",
      "140/140 - 2s - loss: 0.6235 - accuracy: 0.8069 - val_loss: 0.7288 - val_accuracy: 0.7841\n",
      "Epoch 29/100\n",
      "140/140 - 2s - loss: 0.6058 - accuracy: 0.8117 - val_loss: 0.7163 - val_accuracy: 0.7889\n",
      "Epoch 30/100\n",
      "140/140 - 2s - loss: 0.5956 - accuracy: 0.8164 - val_loss: 0.7102 - val_accuracy: 0.7906\n",
      "Epoch 31/100\n",
      "140/140 - 2s - loss: 0.5848 - accuracy: 0.8213 - val_loss: 0.6837 - val_accuracy: 0.8004\n",
      "Epoch 32/100\n",
      "140/140 - 2s - loss: 0.5742 - accuracy: 0.8233 - val_loss: 0.7210 - val_accuracy: 0.7871\n",
      "Epoch 33/100\n",
      "140/140 - 2s - loss: 0.5746 - accuracy: 0.8233 - val_loss: 0.7283 - val_accuracy: 0.7822\n",
      "Epoch 34/100\n",
      "140/140 - 2s - loss: 0.5593 - accuracy: 0.8276 - val_loss: 0.6993 - val_accuracy: 0.7976\n",
      "Epoch 35/100\n",
      "140/140 - 2s - loss: 0.5595 - accuracy: 0.8281 - val_loss: 0.6938 - val_accuracy: 0.7953\n",
      "Epoch 36/100\n",
      "140/140 - 2s - loss: 0.5483 - accuracy: 0.8294 - val_loss: 0.6707 - val_accuracy: 0.8022\n",
      "Epoch 37/100\n",
      "140/140 - 2s - loss: 0.5355 - accuracy: 0.8339 - val_loss: 0.6738 - val_accuracy: 0.8043\n",
      "Epoch 38/100\n",
      "140/140 - 2s - loss: 0.5379 - accuracy: 0.8322 - val_loss: 0.6866 - val_accuracy: 0.7989\n",
      "Epoch 39/100\n",
      "140/140 - 2s - loss: 0.5323 - accuracy: 0.8353 - val_loss: 0.6462 - val_accuracy: 0.8159\n",
      "Epoch 40/100\n",
      "140/140 - 2s - loss: 0.5257 - accuracy: 0.8374 - val_loss: 0.6521 - val_accuracy: 0.8105\n",
      "Epoch 41/100\n",
      "140/140 - 2s - loss: 0.5123 - accuracy: 0.8410 - val_loss: 0.6613 - val_accuracy: 0.8086\n",
      "Epoch 42/100\n",
      "140/140 - 2s - loss: 0.5072 - accuracy: 0.8431 - val_loss: 0.6488 - val_accuracy: 0.8126\n",
      "Epoch 43/100\n",
      "140/140 - 2s - loss: 0.5025 - accuracy: 0.8416 - val_loss: 0.6713 - val_accuracy: 0.8056\n",
      "Epoch 44/100\n",
      "140/140 - 2s - loss: 0.4955 - accuracy: 0.8456 - val_loss: 0.6610 - val_accuracy: 0.8106\n",
      "Epoch 45/100\n",
      "140/140 - 2s - loss: 0.4965 - accuracy: 0.8455 - val_loss: 0.6578 - val_accuracy: 0.8101\n",
      "Epoch 46/100\n",
      "140/140 - 2s - loss: 0.4846 - accuracy: 0.8492 - val_loss: 0.6472 - val_accuracy: 0.8147\n",
      "Epoch 47/100\n",
      "140/140 - 2s - loss: 0.4736 - accuracy: 0.8530 - val_loss: 0.6606 - val_accuracy: 0.8122\n",
      "Epoch 48/100\n",
      "140/140 - 2s - loss: 0.4757 - accuracy: 0.8509 - val_loss: 0.6966 - val_accuracy: 0.7988\n",
      "Epoch 49/100\n",
      "140/140 - 2s - loss: 0.4777 - accuracy: 0.8511 - val_loss: 0.6620 - val_accuracy: 0.8082\n",
      "Epoch 50/100\n",
      "140/140 - 2s - loss: 0.4670 - accuracy: 0.8551 - val_loss: 0.6606 - val_accuracy: 0.8108\n",
      "Epoch 51/100\n",
      "140/140 - 2s - loss: 0.4673 - accuracy: 0.8542 - val_loss: 0.6458 - val_accuracy: 0.8149\n",
      "Epoch 52/100\n",
      "140/140 - 2s - loss: 0.4529 - accuracy: 0.8576 - val_loss: 0.6462 - val_accuracy: 0.8153\n",
      "Epoch 53/100\n",
      "140/140 - 2s - loss: 0.4509 - accuracy: 0.8579 - val_loss: 0.6715 - val_accuracy: 0.8072\n",
      "Epoch 54/100\n",
      "140/140 - 2s - loss: 0.4574 - accuracy: 0.8575 - val_loss: 0.7069 - val_accuracy: 0.7999\n",
      "Epoch 55/100\n",
      "140/140 - 2s - loss: 0.4353 - accuracy: 0.8633 - val_loss: 0.6287 - val_accuracy: 0.8177\n",
      "Epoch 56/100\n",
      "140/140 - 2s - loss: 0.4335 - accuracy: 0.8633 - val_loss: 0.6755 - val_accuracy: 0.8104\n",
      "Epoch 57/100\n",
      "140/140 - 2s - loss: 0.4284 - accuracy: 0.8649 - val_loss: 0.6739 - val_accuracy: 0.8105\n",
      "Epoch 58/100\n",
      "140/140 - 2s - loss: 0.4349 - accuracy: 0.8629 - val_loss: 0.6629 - val_accuracy: 0.8134\n",
      "Epoch 59/100\n",
      "140/140 - 2s - loss: 0.4232 - accuracy: 0.8663 - val_loss: 0.6601 - val_accuracy: 0.8134\n",
      "Epoch 60/100\n",
      "140/140 - 2s - loss: 0.4177 - accuracy: 0.8704 - val_loss: 0.6900 - val_accuracy: 0.8052\n",
      "Epoch 61/100\n",
      "140/140 - 2s - loss: 0.4282 - accuracy: 0.8642 - val_loss: 0.6573 - val_accuracy: 0.8173\n",
      "Epoch 62/100\n",
      "140/140 - 2s - loss: 0.4249 - accuracy: 0.8646 - val_loss: 0.6326 - val_accuracy: 0.8218\n",
      "Epoch 63/100\n",
      "140/140 - 2s - loss: 0.4086 - accuracy: 0.8705 - val_loss: 0.6239 - val_accuracy: 0.8259\n",
      "Epoch 64/100\n",
      "140/140 - 2s - loss: 0.4141 - accuracy: 0.8697 - val_loss: 0.6680 - val_accuracy: 0.8121\n",
      "Epoch 65/100\n",
      "140/140 - 2s - loss: 0.4046 - accuracy: 0.8730 - val_loss: 0.6678 - val_accuracy: 0.8104\n",
      "Epoch 66/100\n",
      "140/140 - 2s - loss: 0.4014 - accuracy: 0.8745 - val_loss: 0.6246 - val_accuracy: 0.8259\n",
      "Epoch 67/100\n",
      "140/140 - 2s - loss: 0.3908 - accuracy: 0.8769 - val_loss: 0.6407 - val_accuracy: 0.8212\n",
      "Epoch 68/100\n",
      "140/140 - 2s - loss: 0.3846 - accuracy: 0.8770 - val_loss: 0.6608 - val_accuracy: 0.8184\n",
      "Epoch 69/100\n",
      "140/140 - 2s - loss: 0.3954 - accuracy: 0.8745 - val_loss: 0.6650 - val_accuracy: 0.8197\n",
      "Epoch 70/100\n",
      "140/140 - 2s - loss: 0.3901 - accuracy: 0.8754 - val_loss: 0.6316 - val_accuracy: 0.8301\n",
      "Epoch 71/100\n",
      "140/140 - 2s - loss: 0.3903 - accuracy: 0.8776 - val_loss: 0.6695 - val_accuracy: 0.8125\n",
      "Epoch 72/100\n",
      "140/140 - 2s - loss: 0.3778 - accuracy: 0.8812 - val_loss: 0.6353 - val_accuracy: 0.8288\n",
      "Epoch 73/100\n",
      "140/140 - 2s - loss: 0.3858 - accuracy: 0.8778 - val_loss: 0.6624 - val_accuracy: 0.8183\n",
      "Epoch 74/100\n",
      "140/140 - 2s - loss: 0.3685 - accuracy: 0.8843 - val_loss: 0.6299 - val_accuracy: 0.8294\n",
      "Epoch 75/100\n",
      "140/140 - 2s - loss: 0.3684 - accuracy: 0.8827 - val_loss: 0.6589 - val_accuracy: 0.8222\n",
      "Epoch 76/100\n",
      "140/140 - 2s - loss: 0.3734 - accuracy: 0.8810 - val_loss: 0.7166 - val_accuracy: 0.8099\n",
      "Epoch 77/100\n",
      "140/140 - 2s - loss: 0.3680 - accuracy: 0.8819 - val_loss: 0.6532 - val_accuracy: 0.8238\n",
      "Epoch 78/100\n",
      "140/140 - 2s - loss: 0.3743 - accuracy: 0.8820 - val_loss: 0.6794 - val_accuracy: 0.8128\n",
      "Epoch 79/100\n",
      "140/140 - 2s - loss: 0.3634 - accuracy: 0.8838 - val_loss: 0.6624 - val_accuracy: 0.8262\n",
      "Epoch 80/100\n",
      "140/140 - 2s - loss: 0.3559 - accuracy: 0.8858 - val_loss: 0.6461 - val_accuracy: 0.8268\n",
      "Epoch 81/100\n",
      "140/140 - 2s - loss: 0.3507 - accuracy: 0.8889 - val_loss: 0.6592 - val_accuracy: 0.8261\n",
      "Epoch 82/100\n",
      "140/140 - 2s - loss: 0.3488 - accuracy: 0.8879 - val_loss: 0.6690 - val_accuracy: 0.8242\n",
      "Epoch 83/100\n",
      "140/140 - 2s - loss: 0.3601 - accuracy: 0.8844 - val_loss: 0.6936 - val_accuracy: 0.8121\n",
      "Epoch 84/100\n",
      "140/140 - 2s - loss: 0.3478 - accuracy: 0.8903 - val_loss: 0.6791 - val_accuracy: 0.8177\n",
      "Epoch 85/100\n",
      "140/140 - 2s - loss: 0.3348 - accuracy: 0.8944 - val_loss: 0.6639 - val_accuracy: 0.8283\n",
      "Epoch 86/100\n",
      "140/140 - 2s - loss: 0.3509 - accuracy: 0.8876 - val_loss: 0.7013 - val_accuracy: 0.8122\n",
      "Epoch 87/100\n",
      "140/140 - 2s - loss: 0.3342 - accuracy: 0.8941 - val_loss: 0.6962 - val_accuracy: 0.8211\n",
      "Epoch 88/100\n",
      "140/140 - 2s - loss: 0.3464 - accuracy: 0.8882 - val_loss: 0.6808 - val_accuracy: 0.8186\n",
      "Epoch 89/100\n",
      "140/140 - 2s - loss: 0.3404 - accuracy: 0.8909 - val_loss: 0.7120 - val_accuracy: 0.8143\n",
      "Epoch 90/100\n",
      "140/140 - 2s - loss: 0.3356 - accuracy: 0.8917 - val_loss: 0.6411 - val_accuracy: 0.8307\n",
      "Epoch 91/100\n",
      "140/140 - 2s - loss: 0.3288 - accuracy: 0.8946 - val_loss: 0.6896 - val_accuracy: 0.8231\n",
      "Epoch 92/100\n",
      "140/140 - 2s - loss: 0.3384 - accuracy: 0.8911 - val_loss: 0.6977 - val_accuracy: 0.8181\n",
      "Epoch 93/100\n",
      "140/140 - 2s - loss: 0.3268 - accuracy: 0.8949 - val_loss: 0.7038 - val_accuracy: 0.8189\n",
      "Epoch 94/100\n",
      "140/140 - 2s - loss: 0.3257 - accuracy: 0.8965 - val_loss: 0.7134 - val_accuracy: 0.8182\n",
      "Epoch 95/100\n",
      "140/140 - 2s - loss: 0.3206 - accuracy: 0.8967 - val_loss: 0.6831 - val_accuracy: 0.8208\n",
      "Epoch 96/100\n",
      "140/140 - 2s - loss: 0.3129 - accuracy: 0.8986 - val_loss: 0.6635 - val_accuracy: 0.8318\n",
      "Epoch 97/100\n",
      "140/140 - 2s - loss: 0.3192 - accuracy: 0.8973 - val_loss: 0.6998 - val_accuracy: 0.8212\n",
      "Epoch 98/100\n",
      "140/140 - 2s - loss: 0.3203 - accuracy: 0.8967 - val_loss: 0.7146 - val_accuracy: 0.8149\n",
      "Epoch 99/100\n",
      "140/140 - 2s - loss: 0.3194 - accuracy: 0.8978 - val_loss: 0.6801 - val_accuracy: 0.8276\n",
      "Epoch 100/100\n",
      "140/140 - 2s - loss: 0.2977 - accuracy: 0.9034 - val_loss: 0.6943 - val_accuracy: 0.8248\n"
     ]
    }
   ],
   "source": [
    "model_fit = model.fit(X_train, y_train, validation_data = (X_test, y_test), epochs=100, batch_size= 300, verbose=2)"
   ]
  },
  {
   "cell_type": "markdown",
   "metadata": {
    "id": "3fNFbIwNT-5y"
   },
   "source": [
    "Conclusion and Interpretation"
   ]
  },
  {
   "cell_type": "code",
   "execution_count": 24,
   "metadata": {
    "colab": {
     "base_uri": "https://localhost:8080/"
    },
    "id": "JBNAjpcfSE3h",
    "outputId": "00f60fdc-5923-4907-99f1-e73ce83bdb5d"
   },
   "outputs": [
    {
     "name": "stdout",
     "output_type": "stream",
     "text": [
      "Loss: 0.6942762136459351\n",
      "Accuracy: 0.824833333492279\n"
     ]
    }
   ],
   "source": [
    "# Final Evaluation of the model\n",
    "scores = model.evaluate(X_test, y_test, verbose=0)\n",
    "print('Loss:', scores[0])\n",
    "print('Accuracy:', scores[1])"
   ]
  },
  {
   "cell_type": "code",
   "execution_count": 25,
   "metadata": {
    "colab": {
     "base_uri": "https://localhost:8080/",
     "height": 563
    },
    "id": "9I1VcEt_T79D",
    "outputId": "5cb0dcdd-f24f-40ca-cc3d-39f67e91a742"
   },
   "outputs": [
    {
     "data": {
      "text/plain": [
       "Text(0.5, 1.0, 'Training and validation loss')"
      ]
     },
     "execution_count": 25,
     "metadata": {
      "tags": []
     },
     "output_type": "execute_result"
    },
    {
     "data": {
      "image/png": "[encoded data removed]",
      "text/plain": [
       "<Figure size 432x288 with 1 Axes>"
      ]
     },
     "metadata": {
      "needs_background": "light",
      "tags": []
     },
     "output_type": "display_data"
    },
    {
     "data": {
      "image/png": "[encoded data removed]",
      "text/plain": [
       "<Figure size 432x288 with 1 Axes>"
      ]
     },
     "metadata": {
      "needs_background": "light",
      "tags": []
     },
     "output_type": "display_data"
    }
   ],
   "source": [
    "accuracy = model_fit.history['accuracy']\n",
    "val_accuracy = model_fit.history['val_accuracy']\n",
    "loss = model_fit.history['loss']\n",
    "val_loss = model_fit.history['val_loss']\n",
    "\n",
    "epochs = range(len(accuracy)) # Get number of epoches\n",
    "\n",
    "plt.plot (epochs, accuracy, label = 'training accuracy')\n",
    "plt.plot (epochs, val_accuracy, label = 'validation accuracy')\n",
    "plt.title ('Training and validation accuracy')\n",
    "plt.legend(loc = 'lower right')\n",
    "plt.figure()\n",
    "\n",
    "plt.plot (epochs, loss, label = 'training loss')\n",
    "plt.plot (epochs, val_loss, label = 'validation loss')\n",
    "plt.legend (loc = 'upper right')\n",
    "plt.title ('Training and validation loss')"
   ]
  },
  {
   "cell_type": "markdown",
   "metadata": {
    "id": "OsfHKtsI8KGD"
   },
   "source": [
    "### Conclusion\n",
    "- Here we have fabricated a model to predict 10 labels i.e. digits from 0 to 9.\n",
    "\n",
    "- The fully connected neural network has a flatten layer, followed by dense layers and a output layer with softmax.\n",
    "- The final accuracy of the model has come out to be 82.23% with a validation loss of 0.684.\n",
    "- Accuracy and loss of both validation and test data have been ploted.\n",
    "- It can be interpreted that, at a certain point, the train accuracy starts to deviate and increase while the validation accuracy starts to flatten or decrease.\n",
    "- Simultaniously, the validation loss starts to increase and the difference between the training & validation loss also shooting up. this indicates the overfitting of the model.\n",
    "\n",
    "- Further, we can try to enhance the model perfomance by hyperparameter tuning method. (Executed below)"
   ]
  },
  {
   "cell_type": "markdown",
   "metadata": {
    "id": "MK919Q2yd0D2"
   },
   "source": [
    "## <span style=\"font-family: Arial; font-weight:bold;font-size:1 em;color:Purple;\"> 8. Hyper Parameter Tuning to enhance the model accuracy\n",
    "<a id='HPT'></a>"
   ]
  },
  {
   "cell_type": "markdown",
   "metadata": {
    "id": "JUrFWmQ5h9h0"
   },
   "source": [
    "Requirement of Hyperparameter Tuning is to decide \n",
    "\n",
    "*   How many Number of Hidden layers we should have ?\n",
    "*   How many Number of Neurons in each hidden layer we should have ?\n",
    "*   What should be the Learning Rate ?\n",
    "\n",
    "\n",
    "\n"
   ]
  },
  {
   "cell_type": "markdown",
   "metadata": {
    "id": "DR4NqZoZeB9w"
   },
   "source": [
    "## <span style=\"font-family: Arial; font-weight:bold;font-size:1 em;color:Purple;\"> 8.a. Manual Mode of operation\n",
    "<a id='HPTMM'></a>"
   ]
  },
  {
   "cell_type": "markdown",
   "metadata": {
    "id": "A8dqxjIabqnf"
   },
   "source": [
    "- Let's write a function to run it multiple time\n",
    "  - It has three dense layers, out of which one is output layer and rest all are hidden layers.\n",
    "  - Output layer has softmax as activation function and also has a kernel regularizer (l2).\n",
    "  - Rest of the things are same as above"
   ]
  },
  {
   "cell_type": "markdown",
   "metadata": {
    "id": "Y2yNksExtTil"
   },
   "source": [
    "### Model-1"
   ]
  },
  {
   "cell_type": "code",
   "execution_count": 26,
   "metadata": {
    "id": "PERRqUDeA8uC"
   },
   "outputs": [],
   "source": [
    "\n",
    "def train_and_test_loop(iterations, lr, Lambda, verb=True):\n",
    "\n",
    "    ## hyperparameters\n",
    "    iterations = iterations\n",
    "    learning_rate = lr\n",
    "    hidden_nodes = 256\n",
    "    \n",
    "        \n",
    "    model = Sequential()\n",
    "    model.add(Flatten())\n",
    "    model.add(Dense(hidden_nodes, input_shape=(1024,), activation='relu'))\n",
    "    model.add(Dense(hidden_nodes, activation='relu'))\n",
    "    model.add(Dense(num_classes, activation='softmax', kernel_regularizer=regularizers.l2(Lambda)))\n",
    "    \n",
    "    adam = optimizers.Adam(lr=learning_rate, decay=1e-6)\n",
    "    # Compile model\n",
    "    model.compile(loss='categorical_crossentropy', optimizer=adam, metrics=['accuracy'])\n",
    "    \n",
    "    # Fit the model\n",
    "    # model.fit(X_train, y_train, epochs=iterations, batch_size=1000, verbose= 1)\n",
    "    model.fit(X_train, y_train, validation_data = (X_test, y_test),  batch_size= 300, verbose=2)\n",
    "\n",
    "    # return model"
   ]
  },
  {
   "cell_type": "markdown",
   "metadata": {
    "id": "-pZp_O5qm0tU"
   },
   "source": [
    "- Let's check the loss is reasonable or not with respect to accuracy..\n",
    "- Disable the regularisation (Lambda = 0)"
   ]
  },
  {
   "cell_type": "code",
   "execution_count": 27,
   "metadata": {
    "colab": {
     "base_uri": "https://localhost:8080/"
    },
    "id": "6vG-ucd2BHwL",
    "outputId": "93099ecb-6582-4d15-c60e-f9e1477f127e"
   },
   "outputs": [
    {
     "name": "stdout",
     "output_type": "stream",
     "text": [
      "140/140 - 2s - loss: 2.3066 - accuracy: 0.1051 - val_loss: 2.2977 - val_accuracy: 0.1159\n"
     ]
    }
   ],
   "source": [
    "lr = 0.00001\n",
    "Lambda = 0\n",
    "# iterations = 1\n",
    "train_and_test_loop(1, lr, Lambda)"
   ]
  },
  {
   "cell_type": "markdown",
   "metadata": {
    "id": "4STD0171nNm_"
   },
   "source": [
    "- The loss here is almost around 2.2 to 2.3 and the corrosponding accuracy is around 10% to 11%.\n",
    "- So, loss seems to be reasonable and it make sense for an untrained network.\n",
    "- Since we have 10 classes in our output, the model is correctly predicting 1 upon 10 times i.e., 0.1% approximately as it is untrained.\n",
    "\n",
    "- Now, let's introduce Lambda (Regularisation) term, and what it does to our loss function..."
   ]
  },
  {
   "cell_type": "code",
   "execution_count": 28,
   "metadata": {
    "colab": {
     "base_uri": "https://localhost:8080/"
    },
    "id": "1WL691ZCh35g",
    "outputId": "f7ab2960-3bc6-4793-87f5-3556e7051085"
   },
   "outputs": [
    {
     "name": "stdout",
     "output_type": "stream",
     "text": [
      "140/140 - 2s - loss: 18954.3711 - accuracy: 0.1102 - val_loss: 18687.8105 - val_accuracy: 0.1131\n"
     ]
    }
   ],
   "source": [
    "lr = 0.00001\n",
    "Lambda = 1e3\n",
    "iterations = 10\n",
    "train_and_test_loop(iterations, lr, Lambda)"
   ]
  },
  {
   "cell_type": "markdown",
   "metadata": {
    "id": "C5gg6lxQoTtp"
   },
   "source": [
    "- Loss went up after adding regularisation term. However, accuracy remained almost same..\n",
    "\n",
    "- Let's now overfit to a small subset of our dataset, in this case we will be taking 20 images to ensure our model architecture is good enough."
   ]
  },
  {
   "cell_type": "code",
   "execution_count": 29,
   "metadata": {
    "id": "t9OIMlPciiCy"
   },
   "outputs": [],
   "source": [
    "X_train_subset = X_train[0:20]"
   ]
  },
  {
   "cell_type": "code",
   "execution_count": 30,
   "metadata": {
    "id": "RyLiCRfFiog_"
   },
   "outputs": [],
   "source": [
    "y_train_subset = y_train[0:20]"
   ]
  },
  {
   "cell_type": "code",
   "execution_count": 31,
   "metadata": {
    "id": "pAWQ8B59iwL9"
   },
   "outputs": [],
   "source": [
    "X_train1 = X_train_subset"
   ]
  },
  {
   "cell_type": "code",
   "execution_count": 32,
   "metadata": {
    "id": "ByU3Li_ni6jt"
   },
   "outputs": [],
   "source": [
    "y_train1 = y_train_subset"
   ]
  },
  {
   "cell_type": "code",
   "execution_count": 33,
   "metadata": {
    "colab": {
     "base_uri": "https://localhost:8080/"
    },
    "id": "W5LMaas6i_pK",
    "outputId": "d2223d59-d2c9-4d49-e938-f483c7e75ac7"
   },
   "outputs": [
    {
     "data": {
      "text/plain": [
       "(20, 1024, 1)"
      ]
     },
     "execution_count": 33,
     "metadata": {
      "tags": []
     },
     "output_type": "execute_result"
    }
   ],
   "source": [
    "X_train1.shape"
   ]
  },
  {
   "cell_type": "code",
   "execution_count": 34,
   "metadata": {
    "colab": {
     "base_uri": "https://localhost:8080/"
    },
    "id": "01e3LpS7jBq7",
    "outputId": "6332000d-a488-4cdf-c28b-130e28875aff"
   },
   "outputs": [
    {
     "data": {
      "text/plain": [
       "(20, 10)"
      ]
     },
     "execution_count": 34,
     "metadata": {
      "tags": []
     },
     "output_type": "execute_result"
    }
   ],
   "source": [
    "y_train1.shape"
   ]
  },
  {
   "cell_type": "markdown",
   "metadata": {
    "id": "vhEoqeQqtXTa"
   },
   "source": [
    "### Model-11"
   ]
  },
  {
   "cell_type": "code",
   "execution_count": 35,
   "metadata": {
    "id": "-OlQ2kLRsILp"
   },
   "outputs": [],
   "source": [
    "\n",
    "def train_and_test_loop(iterations, lr, Lambda, verb=True):\n",
    "\n",
    "    ## hyperparameters\n",
    "    iterations = iterations\n",
    "    learning_rate = lr\n",
    "    hidden_nodes = 256\n",
    "    \n",
    "        \n",
    "    model = Sequential()\n",
    "    model.add(Flatten())\n",
    "    model.add(Dense(hidden_nodes, input_shape=(1024,), activation='relu'))\n",
    "    model.add(Dense(hidden_nodes, activation='relu'))\n",
    "    model.add(Dense(num_classes, activation='softmax', kernel_regularizer=regularizers.l2(Lambda)))\n",
    "    \n",
    "    adam = optimizers.Adam(lr=learning_rate, decay=1e-6)\n",
    "    # Compile model\n",
    "    model.compile(loss='categorical_crossentropy', optimizer=adam, metrics=['accuracy'])\n",
    "    \n",
    "    # Fit the model\n",
    "   \n",
    "    model.fit(X_train1, y_train1, validation_data = (X_test, y_test),  batch_size= 300, verbose=2)\n"
   ]
  },
  {
   "cell_type": "code",
   "execution_count": 36,
   "metadata": {
    "colab": {
     "base_uri": "https://localhost:8080/"
    },
    "id": "IXGMqhJvjEjX",
    "outputId": "bb47b4e8-77ba-415b-8ef1-5fd9844704a3"
   },
   "outputs": [
    {
     "name": "stdout",
     "output_type": "stream",
     "text": [
      "1/1 - 0s - loss: 2.5934 - accuracy: 0.0000e+00 - val_loss: 2.5241 - val_accuracy: 0.1000\n"
     ]
    }
   ],
   "source": [
    "lr = 0.001\n",
    "Lambda = 0\n",
    "train_and_test_loop(500, lr, Lambda)"
   ]
  },
  {
   "cell_type": "markdown",
   "metadata": {
    "id": "X_ubnWl9ppMv"
   },
   "source": [
    "- loss has decreased, however, the model is now in ovrefitting condition.\n",
    "- Now let's take the model with original dataset and tune the parameters. "
   ]
  },
  {
   "cell_type": "code",
   "execution_count": 37,
   "metadata": {
    "colab": {
     "base_uri": "https://localhost:8080/"
    },
    "id": "WWKUWkqIqJO0",
    "outputId": "4340d049-6f25-45a9-b504-1ce931f79e3e"
   },
   "outputs": [
    {
     "name": "stdout",
     "output_type": "stream",
     "text": [
      "140/140 - 2s - loss: 0.3124 - accuracy: 0.9006 - val_loss: 0.6837 - val_accuracy: 0.8252\n"
     ]
    },
    {
     "data": {
      "text/plain": [
       "<tensorflow.python.keras.callbacks.History at 0x7f2dbd604da0>"
      ]
     },
     "execution_count": 37,
     "metadata": {
      "tags": []
     },
     "output_type": "execute_result"
    }
   ],
   "source": [
    " model.fit(X_train, y_train, validation_data = (X_test, y_test),  batch_size= 300, verbose=2)"
   ]
  },
  {
   "cell_type": "markdown",
   "metadata": {
    "id": "KCR-x7aOqea5"
   },
   "source": [
    "- Let's tune with small regularisation and find learning rate to bring down the loss."
   ]
  },
  {
   "cell_type": "code",
   "execution_count": 38,
   "metadata": {
    "colab": {
     "base_uri": "https://localhost:8080/"
    },
    "id": "wB2I4AW2qorR",
    "outputId": "9549fb38-9be8-448b-b399-5d00b8d26913"
   },
   "outputs": [
    {
     "name": "stdout",
     "output_type": "stream",
     "text": [
      "1/1 - 0s - loss: 2.3905 - accuracy: 0.0500 - val_loss: 2.3730 - val_accuracy: 0.0949\n"
     ]
    }
   ],
   "source": [
    "lr = 1e-7\n",
    "Lambda = 1e-7\n",
    "train_and_test_loop(500, lr, Lambda)"
   ]
  },
  {
   "cell_type": "markdown",
   "metadata": {
    "id": "D_oTTDaMrAbn"
   },
   "source": [
    "- No change in loss, may be due to low learning.\n",
    "- Let's try with a larger learning rate."
   ]
  },
  {
   "cell_type": "code",
   "execution_count": 39,
   "metadata": {
    "colab": {
     "base_uri": "https://localhost:8080/"
    },
    "id": "VLaaruo5qufk",
    "outputId": "58541b1d-f1b1-4faf-e992-6f1797066570"
   },
   "outputs": [
    {
     "name": "stdout",
     "output_type": "stream",
     "text": [
      "1/1 - 0s - loss: 2.5880 - accuracy: 0.0000e+00 - val_loss: 1507802958716038227908850876416.0000 - val_accuracy: 0.1008\n"
     ]
    }
   ],
   "source": [
    "lr = 1e8\n",
    "Lambda = 1e-7\n",
    "train_and_test_loop(500, lr, Lambda)"
   ]
  },
  {
   "cell_type": "markdown",
   "metadata": {
    "id": "FD9q63KMqWnX"
   },
   "source": [
    "- Training loss is increasing, but validation loss is exploding, may be due to very high learning rate.\n",
    "- Cost is very high means high learning rate.\n",
    "- Let's try with learning rate value of 1e4"
   ]
  },
  {
   "cell_type": "code",
   "execution_count": 40,
   "metadata": {
    "colab": {
     "base_uri": "https://localhost:8080/"
    },
    "id": "IzIDGhM5qNTc",
    "outputId": "f75594ad-23df-44e1-b423-9ebc3d2182c5"
   },
   "outputs": [
    {
     "name": "stdout",
     "output_type": "stream",
     "text": [
      "1/1 - 0s - loss: 2.3694 - accuracy: 0.1500 - val_loss: 2182194955210981376.0000 - val_accuracy: 0.1008\n"
     ]
    }
   ],
   "source": [
    "lr = 1e4\n",
    "Lambda = 1e-7\n",
    "train_and_test_loop(500, lr, Lambda)"
   ]
  },
  {
   "cell_type": "markdown",
   "metadata": {
    "id": "v0s9tInNsDJA"
   },
   "source": [
    "- Loss explosion still persists.\n",
    "- we will decrease the no. of iterations and keep learning rate as 1e3 "
   ]
  },
  {
   "cell_type": "code",
   "execution_count": 41,
   "metadata": {
    "colab": {
     "base_uri": "https://localhost:8080/"
    },
    "id": "AhxnZ7mvrq5B",
    "outputId": "1c649e0c-a40c-4ab6-cb0e-01ab8e8a2803"
   },
   "outputs": [
    {
     "name": "stdout",
     "output_type": "stream",
     "text": [
      "WARNING:tensorflow:5 out of the last 145 calls to <function Model.make_train_function.<locals>.train_function at 0x7f2dbd169f28> triggered tf.function retracing. Tracing is expensive and the excessive number of tracings could be due to (1) creating @tf.function repeatedly in a loop, (2) passing tensors with different shapes, (3) passing Python objects instead of tensors. For (1), please define your @tf.function outside of the loop. For (2), @tf.function has experimental_relax_shapes=True option that relaxes argument shapes that can avoid unnecessary retracing. For (3), please refer to https://www.tensorflow.org/tutorials/customization/performance#python_or_tensor_args and https://www.tensorflow.org/api_docs/python/tf/function for  more details.\n",
      "1/1 - 0s - loss: 2.1641 - accuracy: 0.1500 - val_loss: 2037394509398016.0000 - val_accuracy: 0.1008\n"
     ]
    }
   ],
   "source": [
    "lr = 1e3\n",
    "Lambda = 1e-7\n",
    "train_and_test_loop(50, lr, Lambda)"
   ]
  },
  {
   "cell_type": "markdown",
   "metadata": {
    "id": "GjF2Ll5KsQNj"
   },
   "source": [
    "- No improvement in accuracy and still the problem of loss explosion exists.\n",
    "- The rough range of learning rate we should cross validate is somewhere between [1e3 to 1e-7]\n",
    "- So we will go for Cross validation method."
   ]
  },
  {
   "cell_type": "markdown",
   "metadata": {
    "id": "WKpQqq54tcH7"
   },
   "source": [
    "### Model-2"
   ]
  },
  {
   "cell_type": "markdown",
   "metadata": {
    "id": "XoEc0Nuis2Na"
   },
   "source": [
    "- Below model gives the consolidated accuracy instead of accuracy at each epoch .\n",
    "- At the last part, the 'model.evaluate' line is the only difference from model-1 or model-11 "
   ]
  },
  {
   "cell_type": "code",
   "execution_count": 42,
   "metadata": {
    "id": "b0u4VZH7BL6k"
   },
   "outputs": [],
   "source": [
    "def train_test_loop(iterations, lr, Lmabda, verb = True):\n",
    "\n",
    "  # hyperparameters\n",
    "\n",
    "  iterations = iterations\n",
    "  learning_rate = lr\n",
    "  hidden_nodes = 256\n",
    "  output_nodes = 10\n",
    "\n",
    "  model = Sequential()\n",
    "  model.add(Flatten())\n",
    "  model.add(Dense(hidden_nodes, input_shape = (1024,), activation = 'relu'))\n",
    "  model.add(Dense(hidden_nodes, activation = 'relu'))\n",
    "  model.add(Dense(output_nodes, activation = 'softmax', kernel_regularizer = regularizers.l2(Lambda)))\n",
    "\n",
    "  opti = optimizers.Adam(lr = learning_rate, decay = 1e-6)\n",
    "  # Compile model\n",
    "\n",
    "  model.compile(loss='categorical_crossentropy', optimizer = opti, metrics = ['accuracy'])\n",
    "\n",
    "  # Fit the model\n",
    "\n",
    "  model.fit(X_train, y_train, epochs = iterations, batch_size=1000, verbose=1)\n",
    "\n",
    "  score = model.evaluate(X_train, y_train, verbose = 0)\n",
    "\n",
    "  return score"
   ]
  },
  {
   "cell_type": "code",
   "execution_count": 43,
   "metadata": {
    "colab": {
     "base_uri": "https://localhost:8080/"
    },
    "id": "qCblev6lZ5b6",
    "outputId": "2f182cd7-dfd4-4cbf-a452-7e0be822602b"
   },
   "outputs": [
    {
     "name": "stdout",
     "output_type": "stream",
     "text": [
      "WARNING:tensorflow:6 out of the last 146 calls to <function Model.make_train_function.<locals>.train_function at 0x7f2dca028378> triggered tf.function retracing. Tracing is expensive and the excessive number of tracings could be due to (1) creating @tf.function repeatedly in a loop, (2) passing tensors with different shapes, (3) passing Python objects instead of tensors. For (1), please define your @tf.function outside of the loop. For (2), @tf.function has experimental_relax_shapes=True option that relaxes argument shapes that can avoid unnecessary retracing. For (3), please refer to https://www.tensorflow.org/tutorials/customization/performance#python_or_tensor_args and https://www.tensorflow.org/api_docs/python/tf/function for  more details.\n",
      "42/42 [==============================] - 1s 33ms/step - loss: 2.3179 - accuracy: 0.0965\n"
     ]
    },
    {
     "data": {
      "text/plain": [
       "[2.3030200004577637, 0.10109523683786392]"
      ]
     },
     "execution_count": 43,
     "metadata": {
      "tags": []
     },
     "output_type": "execute_result"
    }
   ],
   "source": [
    "lr = 0.00001\n",
    "Lambda = 1e-7\n",
    "# iterations = 1\n",
    "train_test_loop(1, lr, Lambda)"
   ]
  },
  {
   "cell_type": "code",
   "execution_count": 44,
   "metadata": {
    "colab": {
     "base_uri": "https://localhost:8080/"
    },
    "id": "YeKKRwY3kwVp",
    "outputId": "038c2705-bed0-4649-f1ae-5c8220303a35"
   },
   "outputs": [
    {
     "name": "stdout",
     "output_type": "stream",
     "text": [
      "1/1 - 0s - loss: 2.2655 - accuracy: 0.2500 - val_loss: 2177306424508416.0000 - val_accuracy: 0.1008\n"
     ]
    }
   ],
   "source": [
    "lr = 1e3\n",
    "Lambda = 1e-7\n",
    "train_and_test_loop(50, lr, Lambda)"
   ]
  },
  {
   "cell_type": "markdown",
   "metadata": {
    "id": "rtImH_EJtpQg"
   },
   "source": [
    "- The result is almost same as above model.\n",
    "- The validation loss is exploding and accuracy is damn low, means the model is not learning anyting."
   ]
  },
  {
   "cell_type": "markdown",
   "metadata": {
    "id": "0Fb3j_blt8lA"
   },
   "source": [
    "> Let's try Hyperparameter tuning techniques by using RandomSearchCV"
   ]
  },
  {
   "cell_type": "markdown",
   "metadata": {
    "id": "3CmYnfDSePjS"
   },
   "source": [
    "## <span style=\"font-family: Arial; font-weight:bold;font-size:1 em;color:Purple;\"> 8.b. Hyper parameter tuning using RandomSearch CV\n",
    "<a id='HPTRSCV'></a>"
   ]
  },
  {
   "cell_type": "code",
   "execution_count": 45,
   "metadata": {
    "id": "k1jHObK8gbul"
   },
   "outputs": [],
   "source": [
    "# Let's define a custum function with a sequential model\n",
    "def build_model(hp): # hp is the hyperparameter\n",
    "  model = keras.Sequential() \n",
    "  model.add(Flatten())  \n",
    "  for i in range(hp.Int('num_layers', 2, 20)): # minimum number of hidden layers is 2 and maximum is 20,\n",
    "      \n",
    "      model.add(layers.Dense(units=hp.Int('units_' +str(i), # dense function is used to creat neurons\n",
    "                                        min_value =32, # Minimum number of neurons\n",
    "                                        max_value = 512, # Maximum number of neurons\n",
    "                                        step=32), # \n",
    "                           activation = 'relu')) # activation layer considered here is relu\n",
    "      model.add(layers.Dense(num_classes, activation = 'softmax')) # output dense layer with 10 number of labels with activation function is softmax\n",
    "      model.compile(optimizer=keras.optimizers.Adam( # adam optimizer is considered\n",
    "              hp.Choice('learning_rate', [1e-2, 1e-3, 1e-4])), # learning_rate a hyperparameter with three values\n",
    "            # hp.Choice helps to select one out of three given options\n",
    "            # hp.Int helpes to try with different values with a single learning rate\n",
    "              loss = 'categorical_crossentropy', # loss function for classifiation \n",
    "              metrics=['accuracy']) # metrics for measurement of model performance is accuracy\n",
    "      return model"
   ]
  },
  {
   "cell_type": "code",
   "execution_count": 46,
   "metadata": {
    "id": "DNDKKYuFofDz"
   },
   "outputs": [],
   "source": [
    "tuner = RandomSearch( # imported from keras tuner\n",
    "    build_model, # model building is my 1st parameter\n",
    "    objective = 'val_accuracy', # \n",
    "    max_trials=5, # total number trials\n",
    "    executions_per_trial =3, # number of executions in each trials\n",
    "    # so total number of executions/ itterations w.r.t trials will be 5*3=15  \n",
    "    directory='my_dir', # use to store each training weights when process is happening\n",
    "    project_name='SVHN') # weights saved in this project"
   ]
  },
  {
   "cell_type": "code",
   "execution_count": 47,
   "metadata": {
    "colab": {
     "base_uri": "https://localhost:8080/"
    },
    "id": "qQNS8a6znZcj",
    "outputId": "051df1f0-cd5f-4c01-9a11-e22e225985fb"
   },
   "outputs": [
    {
     "name": "stdout",
     "output_type": "stream",
     "text": [
      "Search space summary\n",
      "Default search space size: 3\n",
      "num_layers (Int)\n",
      "{'default': None, 'conditions': [], 'min_value': 2, 'max_value': 20, 'step': 1, 'sampling': None}\n",
      "units_0 (Int)\n",
      "{'default': None, 'conditions': [], 'min_value': 32, 'max_value': 512, 'step': 32, 'sampling': None}\n",
      "learning_rate (Choice)\n",
      "{'default': 0.01, 'conditions': [], 'values': [0.01, 0.001, 0.0001], 'ordered': True}\n"
     ]
    }
   ],
   "source": [
    "# Gives what are the searches we are executing\n",
    "tuner.search_space_summary()"
   ]
  },
  {
   "cell_type": "code",
   "execution_count": 48,
   "metadata": {
    "colab": {
     "base_uri": "https://localhost:8080/"
    },
    "id": "FjSli6VEgfKv",
    "outputId": "6fb51836-c114-40fc-d2ca-296af3a5ae3c"
   },
   "outputs": [
    {
     "name": "stdout",
     "output_type": "stream",
     "text": [
      "Trial 5 Complete [00h 14m 53s]\n",
      "val_accuracy: 0.441481480995814\n",
      "\n",
      "Best val_accuracy So Far: 0.8305740753809611\n",
      "Total elapsed time: 00h 59m 11s\n",
      "INFO:tensorflow:Oracle triggered exit\n"
     ]
    }
   ],
   "source": [
    "# tuner.search(X_train, y_train,\n",
    "            #  epochs = 5,\n",
    "            #  validation_data = (X_test, y_test))\n",
    "\n",
    "tuner.search(X_train, y_train,\n",
    "             epochs=50,\n",
    "             validation_data = (X_test, y_test))"
   ]
  },
  {
   "cell_type": "code",
   "execution_count": 49,
   "metadata": {
    "colab": {
     "base_uri": "https://localhost:8080/"
    },
    "id": "WSWh9x10tsui",
    "outputId": "cde692d8-216c-42e9-da9d-2e8c678182b6"
   },
   "outputs": [
    {
     "name": "stdout",
     "output_type": "stream",
     "text": [
      "Results summary\n",
      "Results in my_dir/SVHN\n",
      "Showing 10 best trials\n",
      "Objective(name='val_accuracy', direction='max')\n",
      "Trial summary\n",
      "Hyperparameters:\n",
      "num_layers: 7\n",
      "units_0: 512\n",
      "learning_rate: 0.0001\n",
      "Score: 0.8305740753809611\n",
      "Trial summary\n",
      "Hyperparameters:\n",
      "num_layers: 12\n",
      "units_0: 384\n",
      "learning_rate: 0.001\n",
      "Score: 0.441481480995814\n",
      "Trial summary\n",
      "Hyperparameters:\n",
      "num_layers: 14\n",
      "units_0: 64\n",
      "learning_rate: 0.001\n",
      "Score: 0.16753703355789185\n",
      "Trial summary\n",
      "Hyperparameters:\n",
      "num_layers: 8\n",
      "units_0: 224\n",
      "learning_rate: 0.01\n",
      "Score: 0.10177777707576752\n",
      "Trial summary\n",
      "Hyperparameters:\n",
      "num_layers: 4\n",
      "units_0: 192\n",
      "learning_rate: 0.01\n",
      "Score: 0.10177777707576752\n"
     ]
    }
   ],
   "source": [
    "tuner.results_summary()"
   ]
  },
  {
   "cell_type": "markdown",
   "metadata": {
    "id": "dW55Qxzqnblm"
   },
   "source": [
    "#### Comments:\n",
    "- After, adopting Random Search CV for hyperparameter tuning the accuracy given by the model is 83.05%\n",
    "- This is the best accuracy among 5 tials.\n",
    "- The corrosponding Hyperparameters are 7 Hidden layers, with 512 number of neurons and 0.0001 as learning rate value.\n"
   ]
  },
  {
   "cell_type": "markdown",
   "metadata": {
    "id": "ZCjWEjBcrB7u"
   },
   "source": [
    "#### Initializing a sequential model\n",
    "- Define a sequential model in such a manner that number layers should be 7 and total number of neurons should be 512 as per the result given by Random Search CV.\n",
    "- Flatten the data\n",
    "  - add a Flatten layer\n",
    "  - Flatten layers flatten 2D arrays to 1D array before building the fully connected layers\n",
    "- Add 7 Dense layers\n",
    "  - Number of neurons in first layer: 256\n",
    "  - Activation layer in first layer is relu\n",
    "  - Number of neurons in second layer: 128\n",
    "  - Activation layer in first layer is relu\n",
    "  - Number of neurons in third layer: 64\n",
    "  - Activation layer in third layer is relu\n",
    "  - Number of neurons in fourth layer: 32\n",
    "  - Activation layer in fourth layer is relu\n",
    "  - Number of neurons in fifth & sixth layer: 16\n",
    "  - Activation layer in fifth & sixth layer is relu\n",
    "  - Number of neurons in last layer: number of classes (here 10)\n",
    "  - Activation function in last layers is softmax\n",
    "\n",
    "- We can experiment with any number of neurons for the first Dense layer; however, the final Dense layer must have neurons equal to the number of output classes."
   ]
  },
  {
   "cell_type": "code",
   "execution_count": 50,
   "metadata": {
    "id": "_BD68vP5ite9"
   },
   "outputs": [],
   "source": [
    "def final_model():\n",
    "    # create model\n",
    "    \n",
    "    model = Sequential()  \n",
    "    model.add(Flatten())\n",
    "    model.add(Dense(256, input_shape = (1024,), activation='relu')) ###Multiple Dense units with Relu activation\n",
    "    model.add(Dense(128, activation='relu'))\n",
    "    model.add(Dense(64, activation='relu'))\n",
    "    model.add(Dense(32, activation='relu'))\n",
    "    model.add(Dense(16, activation='relu'))\n",
    "    model.add(Dense(16, activation='relu'))\n",
    "    model.add(Dense(num_classes, activation='softmax'))\n",
    "    return model"
   ]
  },
  {
   "cell_type": "code",
   "execution_count": 56,
   "metadata": {
    "id": "C10uQCh5jFNL"
   },
   "outputs": [],
   "source": [
    "opt = optimizers.Adam(lr = 1e-4)\n",
    "model.compile(loss = 'categorical_crossentropy', optimizer = opt, metrics = ['accuracy'] )\n",
    "# Loss function = Categorical cross entropy"
   ]
  },
  {
   "cell_type": "code",
   "execution_count": 57,
   "metadata": {
    "colab": {
     "base_uri": "https://localhost:8080/"
    },
    "id": "YPrt1n8HjGXM",
    "outputId": "d9da9231-03f4-4b9a-9b0f-64138f437797"
   },
   "outputs": [
    {
     "name": "stdout",
     "output_type": "stream",
     "text": [
      "Epoch 1/100\n",
      "140/140 - 2s - loss: 0.1049 - accuracy: 0.9694 - val_loss: 0.9066 - val_accuracy: 0.8314\n",
      "Epoch 2/100\n",
      "140/140 - 2s - loss: 0.0925 - accuracy: 0.9746 - val_loss: 0.9196 - val_accuracy: 0.8319\n",
      "Epoch 3/100\n",
      "140/140 - 2s - loss: 0.0898 - accuracy: 0.9754 - val_loss: 0.9195 - val_accuracy: 0.8326\n",
      "Epoch 4/100\n",
      "140/140 - 2s - loss: 0.0884 - accuracy: 0.9759 - val_loss: 0.9238 - val_accuracy: 0.8318\n",
      "Epoch 5/100\n",
      "140/140 - 2s - loss: 0.0872 - accuracy: 0.9764 - val_loss: 0.9310 - val_accuracy: 0.8331\n",
      "Epoch 6/100\n",
      "140/140 - 2s - loss: 0.0855 - accuracy: 0.9770 - val_loss: 0.9373 - val_accuracy: 0.8312\n",
      "Epoch 7/100\n",
      "140/140 - 2s - loss: 0.0845 - accuracy: 0.9771 - val_loss: 0.9437 - val_accuracy: 0.8321\n",
      "Epoch 8/100\n",
      "140/140 - 2s - loss: 0.0845 - accuracy: 0.9771 - val_loss: 0.9455 - val_accuracy: 0.8305\n",
      "Epoch 9/100\n",
      "140/140 - 2s - loss: 0.0830 - accuracy: 0.9783 - val_loss: 0.9577 - val_accuracy: 0.8313\n",
      "Epoch 10/100\n",
      "140/140 - 2s - loss: 0.0823 - accuracy: 0.9784 - val_loss: 0.9515 - val_accuracy: 0.8307\n",
      "Epoch 11/100\n",
      "140/140 - 2s - loss: 0.0826 - accuracy: 0.9780 - val_loss: 0.9543 - val_accuracy: 0.8303\n",
      "Epoch 12/100\n",
      "140/140 - 2s - loss: 0.0802 - accuracy: 0.9790 - val_loss: 0.9578 - val_accuracy: 0.8306\n",
      "Epoch 13/100\n",
      "140/140 - 2s - loss: 0.0794 - accuracy: 0.9791 - val_loss: 0.9646 - val_accuracy: 0.8318\n",
      "Epoch 14/100\n",
      "140/140 - 2s - loss: 0.0790 - accuracy: 0.9793 - val_loss: 0.9645 - val_accuracy: 0.8298\n",
      "Epoch 15/100\n",
      "140/140 - 2s - loss: 0.0784 - accuracy: 0.9799 - val_loss: 0.9713 - val_accuracy: 0.8303\n",
      "Epoch 16/100\n",
      "140/140 - 2s - loss: 0.0784 - accuracy: 0.9793 - val_loss: 0.9729 - val_accuracy: 0.8317\n",
      "Epoch 17/100\n",
      "140/140 - 2s - loss: 0.0766 - accuracy: 0.9805 - val_loss: 0.9774 - val_accuracy: 0.8315\n",
      "Epoch 18/100\n",
      "140/140 - 2s - loss: 0.0765 - accuracy: 0.9805 - val_loss: 0.9785 - val_accuracy: 0.8313\n",
      "Epoch 19/100\n",
      "140/140 - 2s - loss: 0.0756 - accuracy: 0.9802 - val_loss: 0.9832 - val_accuracy: 0.8293\n",
      "Epoch 20/100\n",
      "140/140 - 2s - loss: 0.0755 - accuracy: 0.9805 - val_loss: 0.9777 - val_accuracy: 0.8318\n",
      "Epoch 21/100\n",
      "140/140 - 2s - loss: 0.0739 - accuracy: 0.9810 - val_loss: 0.9992 - val_accuracy: 0.8299\n",
      "Epoch 22/100\n",
      "140/140 - 2s - loss: 0.0737 - accuracy: 0.9809 - val_loss: 0.9906 - val_accuracy: 0.8299\n",
      "Epoch 23/100\n",
      "140/140 - 2s - loss: 0.0739 - accuracy: 0.9815 - val_loss: 0.9976 - val_accuracy: 0.8301\n",
      "Epoch 24/100\n",
      "140/140 - 2s - loss: 0.0729 - accuracy: 0.9813 - val_loss: 0.9964 - val_accuracy: 0.8292\n",
      "Epoch 25/100\n",
      "140/140 - 2s - loss: 0.0725 - accuracy: 0.9814 - val_loss: 1.0104 - val_accuracy: 0.8281\n",
      "Epoch 26/100\n",
      "140/140 - 2s - loss: 0.0722 - accuracy: 0.9820 - val_loss: 1.0112 - val_accuracy: 0.8307\n",
      "Epoch 27/100\n",
      "140/140 - 2s - loss: 0.0721 - accuracy: 0.9819 - val_loss: 1.0089 - val_accuracy: 0.8293\n",
      "Epoch 28/100\n",
      "140/140 - 2s - loss: 0.0722 - accuracy: 0.9815 - val_loss: 1.0197 - val_accuracy: 0.8273\n",
      "Epoch 29/100\n",
      "140/140 - 2s - loss: 0.0704 - accuracy: 0.9825 - val_loss: 1.0155 - val_accuracy: 0.8292\n",
      "Epoch 30/100\n",
      "140/140 - 2s - loss: 0.0696 - accuracy: 0.9826 - val_loss: 1.0233 - val_accuracy: 0.8304\n",
      "Epoch 31/100\n",
      "140/140 - 2s - loss: 0.0695 - accuracy: 0.9827 - val_loss: 1.0251 - val_accuracy: 0.8281\n",
      "Epoch 32/100\n",
      "140/140 - 2s - loss: 0.0692 - accuracy: 0.9828 - val_loss: 1.0285 - val_accuracy: 0.8302\n",
      "Epoch 33/100\n",
      "140/140 - 2s - loss: 0.0686 - accuracy: 0.9830 - val_loss: 1.0349 - val_accuracy: 0.8295\n",
      "Epoch 34/100\n",
      "140/140 - 2s - loss: 0.0683 - accuracy: 0.9829 - val_loss: 1.0346 - val_accuracy: 0.8283\n",
      "Epoch 35/100\n",
      "140/140 - 2s - loss: 0.0668 - accuracy: 0.9831 - val_loss: 1.0430 - val_accuracy: 0.8288\n",
      "Epoch 36/100\n",
      "140/140 - 2s - loss: 0.0673 - accuracy: 0.9832 - val_loss: 1.0402 - val_accuracy: 0.8281\n",
      "Epoch 37/100\n",
      "140/140 - 2s - loss: 0.0662 - accuracy: 0.9837 - val_loss: 1.0505 - val_accuracy: 0.8293\n",
      "Epoch 38/100\n",
      "140/140 - 2s - loss: 0.0665 - accuracy: 0.9833 - val_loss: 1.0510 - val_accuracy: 0.8298\n",
      "Epoch 39/100\n",
      "140/140 - 2s - loss: 0.0661 - accuracy: 0.9832 - val_loss: 1.0546 - val_accuracy: 0.8276\n",
      "Epoch 40/100\n",
      "140/140 - 2s - loss: 0.0653 - accuracy: 0.9835 - val_loss: 1.0509 - val_accuracy: 0.8297\n",
      "Epoch 41/100\n",
      "140/140 - 2s - loss: 0.0658 - accuracy: 0.9835 - val_loss: 1.0531 - val_accuracy: 0.8281\n",
      "Epoch 42/100\n",
      "140/140 - 2s - loss: 0.0651 - accuracy: 0.9840 - val_loss: 1.0608 - val_accuracy: 0.8284\n",
      "Epoch 43/100\n",
      "140/140 - 2s - loss: 0.0652 - accuracy: 0.9837 - val_loss: 1.0687 - val_accuracy: 0.8289\n",
      "Epoch 44/100\n",
      "140/140 - 2s - loss: 0.0634 - accuracy: 0.9845 - val_loss: 1.0597 - val_accuracy: 0.8281\n",
      "Epoch 45/100\n",
      "140/140 - 2s - loss: 0.0630 - accuracy: 0.9847 - val_loss: 1.0701 - val_accuracy: 0.8285\n",
      "Epoch 46/100\n",
      "140/140 - 2s - loss: 0.0628 - accuracy: 0.9845 - val_loss: 1.0743 - val_accuracy: 0.8287\n",
      "Epoch 47/100\n",
      "140/140 - 2s - loss: 0.0624 - accuracy: 0.9846 - val_loss: 1.0803 - val_accuracy: 0.8283\n",
      "Epoch 48/100\n",
      "140/140 - 2s - loss: 0.0621 - accuracy: 0.9851 - val_loss: 1.0833 - val_accuracy: 0.8277\n",
      "Epoch 49/100\n",
      "140/140 - 2s - loss: 0.0621 - accuracy: 0.9847 - val_loss: 1.0846 - val_accuracy: 0.8294\n",
      "Epoch 50/100\n",
      "140/140 - 2s - loss: 0.0618 - accuracy: 0.9846 - val_loss: 1.0898 - val_accuracy: 0.8287\n",
      "Epoch 51/100\n",
      "140/140 - 2s - loss: 0.0613 - accuracy: 0.9850 - val_loss: 1.0921 - val_accuracy: 0.8287\n",
      "Epoch 52/100\n",
      "140/140 - 2s - loss: 0.0610 - accuracy: 0.9850 - val_loss: 1.1006 - val_accuracy: 0.8271\n",
      "Epoch 53/100\n",
      "140/140 - 2s - loss: 0.0612 - accuracy: 0.9847 - val_loss: 1.0948 - val_accuracy: 0.8272\n",
      "Epoch 54/100\n",
      "140/140 - 2s - loss: 0.0593 - accuracy: 0.9855 - val_loss: 1.1114 - val_accuracy: 0.8276\n",
      "Epoch 55/100\n",
      "140/140 - 2s - loss: 0.0593 - accuracy: 0.9847 - val_loss: 1.1043 - val_accuracy: 0.8286\n",
      "Epoch 56/100\n",
      "140/140 - 2s - loss: 0.0580 - accuracy: 0.9862 - val_loss: 1.1155 - val_accuracy: 0.8286\n",
      "Epoch 57/100\n",
      "140/140 - 2s - loss: 0.0586 - accuracy: 0.9859 - val_loss: 1.1213 - val_accuracy: 0.8272\n",
      "Epoch 58/100\n",
      "140/140 - 2s - loss: 0.0583 - accuracy: 0.9856 - val_loss: 1.1137 - val_accuracy: 0.8274\n",
      "Epoch 59/100\n",
      "140/140 - 2s - loss: 0.0572 - accuracy: 0.9860 - val_loss: 1.1202 - val_accuracy: 0.8275\n",
      "Epoch 60/100\n",
      "140/140 - 2s - loss: 0.0586 - accuracy: 0.9855 - val_loss: 1.1190 - val_accuracy: 0.8279\n",
      "Epoch 61/100\n",
      "140/140 - 2s - loss: 0.0576 - accuracy: 0.9863 - val_loss: 1.1264 - val_accuracy: 0.8279\n",
      "Epoch 62/100\n",
      "140/140 - 2s - loss: 0.0569 - accuracy: 0.9863 - val_loss: 1.1303 - val_accuracy: 0.8279\n",
      "Epoch 63/100\n",
      "140/140 - 2s - loss: 0.0571 - accuracy: 0.9865 - val_loss: 1.1353 - val_accuracy: 0.8260\n",
      "Epoch 64/100\n",
      "140/140 - 2s - loss: 0.0557 - accuracy: 0.9868 - val_loss: 1.1368 - val_accuracy: 0.8277\n",
      "Epoch 65/100\n",
      "140/140 - 2s - loss: 0.0557 - accuracy: 0.9866 - val_loss: 1.1467 - val_accuracy: 0.8265\n",
      "Epoch 66/100\n",
      "140/140 - 2s - loss: 0.0556 - accuracy: 0.9868 - val_loss: 1.1474 - val_accuracy: 0.8258\n",
      "Epoch 67/100\n",
      "140/140 - 2s - loss: 0.0549 - accuracy: 0.9867 - val_loss: 1.1455 - val_accuracy: 0.8260\n",
      "Epoch 68/100\n",
      "140/140 - 2s - loss: 0.0542 - accuracy: 0.9867 - val_loss: 1.1501 - val_accuracy: 0.8272\n",
      "Epoch 69/100\n",
      "140/140 - 2s - loss: 0.0540 - accuracy: 0.9872 - val_loss: 1.1518 - val_accuracy: 0.8260\n",
      "Epoch 70/100\n",
      "140/140 - 2s - loss: 0.0541 - accuracy: 0.9873 - val_loss: 1.1568 - val_accuracy: 0.8269\n",
      "Epoch 71/100\n",
      "140/140 - 2s - loss: 0.0535 - accuracy: 0.9871 - val_loss: 1.1644 - val_accuracy: 0.8276\n",
      "Epoch 72/100\n",
      "140/140 - 2s - loss: 0.0539 - accuracy: 0.9872 - val_loss: 1.1627 - val_accuracy: 0.8272\n",
      "Epoch 73/100\n",
      "140/140 - 2s - loss: 0.0537 - accuracy: 0.9868 - val_loss: 1.1772 - val_accuracy: 0.8251\n",
      "Epoch 74/100\n",
      "140/140 - 2s - loss: 0.0526 - accuracy: 0.9877 - val_loss: 1.1705 - val_accuracy: 0.8254\n",
      "Epoch 75/100\n",
      "140/140 - 2s - loss: 0.0523 - accuracy: 0.9879 - val_loss: 1.1756 - val_accuracy: 0.8256\n",
      "Epoch 76/100\n",
      "140/140 - 2s - loss: 0.0527 - accuracy: 0.9874 - val_loss: 1.1812 - val_accuracy: 0.8255\n",
      "Epoch 77/100\n",
      "140/140 - 2s - loss: 0.0517 - accuracy: 0.9874 - val_loss: 1.1789 - val_accuracy: 0.8267\n",
      "Epoch 78/100\n",
      "140/140 - 2s - loss: 0.0510 - accuracy: 0.9880 - val_loss: 1.1890 - val_accuracy: 0.8253\n",
      "Epoch 79/100\n",
      "140/140 - 2s - loss: 0.0508 - accuracy: 0.9882 - val_loss: 1.1800 - val_accuracy: 0.8269\n",
      "Epoch 80/100\n",
      "140/140 - 2s - loss: 0.0505 - accuracy: 0.9880 - val_loss: 1.1942 - val_accuracy: 0.8264\n",
      "Epoch 81/100\n",
      "140/140 - 2s - loss: 0.0500 - accuracy: 0.9878 - val_loss: 1.1933 - val_accuracy: 0.8261\n",
      "Epoch 82/100\n",
      "140/140 - 2s - loss: 0.0496 - accuracy: 0.9887 - val_loss: 1.1995 - val_accuracy: 0.8250\n",
      "Epoch 83/100\n",
      "140/140 - 2s - loss: 0.0488 - accuracy: 0.9888 - val_loss: 1.1965 - val_accuracy: 0.8269\n",
      "Epoch 84/100\n",
      "140/140 - 2s - loss: 0.0491 - accuracy: 0.9886 - val_loss: 1.2079 - val_accuracy: 0.8253\n",
      "Epoch 85/100\n",
      "140/140 - 2s - loss: 0.0502 - accuracy: 0.9880 - val_loss: 1.2130 - val_accuracy: 0.8253\n",
      "Epoch 86/100\n",
      "140/140 - 2s - loss: 0.0492 - accuracy: 0.9884 - val_loss: 1.2096 - val_accuracy: 0.8253\n",
      "Epoch 87/100\n",
      "140/140 - 2s - loss: 0.0478 - accuracy: 0.9887 - val_loss: 1.2192 - val_accuracy: 0.8266\n",
      "Epoch 88/100\n",
      "140/140 - 2s - loss: 0.0481 - accuracy: 0.9891 - val_loss: 1.2189 - val_accuracy: 0.8264\n",
      "Epoch 89/100\n",
      "140/140 - 2s - loss: 0.0483 - accuracy: 0.9887 - val_loss: 1.2191 - val_accuracy: 0.8263\n",
      "Epoch 90/100\n",
      "140/140 - 2s - loss: 0.0478 - accuracy: 0.9888 - val_loss: 1.2320 - val_accuracy: 0.8248\n",
      "Epoch 91/100\n",
      "140/140 - 2s - loss: 0.0467 - accuracy: 0.9894 - val_loss: 1.2279 - val_accuracy: 0.8261\n",
      "Epoch 92/100\n",
      "140/140 - 2s - loss: 0.0470 - accuracy: 0.9890 - val_loss: 1.2422 - val_accuracy: 0.8248\n",
      "Epoch 93/100\n",
      "140/140 - 2s - loss: 0.0463 - accuracy: 0.9898 - val_loss: 1.2364 - val_accuracy: 0.8262\n",
      "Epoch 94/100\n",
      "140/140 - 2s - loss: 0.0461 - accuracy: 0.9895 - val_loss: 1.2432 - val_accuracy: 0.8258\n",
      "Epoch 95/100\n",
      "140/140 - 2s - loss: 0.0456 - accuracy: 0.9897 - val_loss: 1.2379 - val_accuracy: 0.8264\n",
      "Epoch 96/100\n",
      "140/140 - 2s - loss: 0.0454 - accuracy: 0.9900 - val_loss: 1.2528 - val_accuracy: 0.8250\n",
      "Epoch 97/100\n",
      "140/140 - 2s - loss: 0.0456 - accuracy: 0.9900 - val_loss: 1.2546 - val_accuracy: 0.8258\n",
      "Epoch 98/100\n",
      "140/140 - 2s - loss: 0.0450 - accuracy: 0.9900 - val_loss: 1.2620 - val_accuracy: 0.8229\n",
      "Epoch 99/100\n",
      "140/140 - 2s - loss: 0.0457 - accuracy: 0.9897 - val_loss: 1.2590 - val_accuracy: 0.8247\n",
      "Epoch 100/100\n",
      "140/140 - 2s - loss: 0.0450 - accuracy: 0.9899 - val_loss: 1.2584 - val_accuracy: 0.8256\n"
     ]
    }
   ],
   "source": [
    "model_fit = model.fit(X_train, y_train, validation_data = (X_test, y_test), epochs=100, batch_size= 300, verbose=2)"
   ]
  },
  {
   "cell_type": "markdown",
   "metadata": {
    "id": "NXnCOxFgeaQ-"
   },
   "source": [
    "## <span style=\"font-family: Arial; font-weight:bold;font-size:1 em;color:Purple;\"> 8.c. Observations on accuracy\n",
    "<a id='OO'></a>"
   ]
  },
  {
   "cell_type": "code",
   "execution_count": 58,
   "metadata": {
    "colab": {
     "base_uri": "https://localhost:8080/"
    },
    "id": "C-kVtmngj_9O",
    "outputId": "a3699d75-ec17-48b6-ca92-142d4e5a2c3f"
   },
   "outputs": [
    {
     "name": "stdout",
     "output_type": "stream",
     "text": [
      "Loss: 1.2583849430084229\n",
      "Accuracy: 0.8256111145019531\n"
     ]
    }
   ],
   "source": [
    "# Final Evaluation of the model\n",
    "scores = model.evaluate(X_test, y_test, verbose=0)\n",
    "print('Loss:', scores[0])\n",
    "print('Accuracy:', scores[1])"
   ]
  },
  {
   "cell_type": "code",
   "execution_count": 59,
   "metadata": {
    "colab": {
     "base_uri": "https://localhost:8080/",
     "height": 563
    },
    "id": "2zWVmDn7kPMf",
    "outputId": "5519e500-a183-4b89-8ff2-25d94c8c71a6"
   },
   "outputs": [
    {
     "data": {
      "text/plain": [
       "Text(0.5, 1.0, 'Training and validation loss')"
      ]
     },
     "execution_count": 59,
     "metadata": {
      "tags": []
     },
     "output_type": "execute_result"
    },
    {
     "data": {
      "image/png": "[encoded data removed]",
      "text/plain": [
       "<Figure size 432x288 with 1 Axes>"
      ]
     },
     "metadata": {
      "needs_background": "light",
      "tags": []
     },
     "output_type": "display_data"
    },
    {
     "data": {
      "image/png": "[encoded data removed]",
      "text/plain": [
       "<Figure size 432x288 with 1 Axes>"
      ]
     },
     "metadata": {
      "needs_background": "light",
      "tags": []
     },
     "output_type": "display_data"
    }
   ],
   "source": [
    "accuracy = model_fit.history['accuracy']\n",
    "val_accuracy = model_fit.history['val_accuracy']\n",
    "loss = model_fit.history['loss']\n",
    "val_loss = model_fit.history['val_loss']\n",
    "\n",
    "epochs = range(len(accuracy)) # Get number of epoches\n",
    "\n",
    "plt.plot (epochs, accuracy, label = 'training accuracy')\n",
    "plt.plot (epochs, val_accuracy, label = 'validation accuracy')\n",
    "plt.title ('Training and validation accuracy')\n",
    "plt.legend(loc = 'lower right')\n",
    "plt.figure()\n",
    "\n",
    "plt.plot (epochs, loss, label = 'training loss')\n",
    "plt.plot (epochs, val_loss, label = 'validation loss')\n",
    "plt.legend (loc = 'upper right')\n",
    "plt.title ('Training and validation loss')"
   ]
  },
  {
   "cell_type": "markdown",
   "metadata": {
    "id": "zoOOPoBUpEI8"
   },
   "source": [
    "- It can be observed from the above accuracy plot that, the training accuracy is above 95% and validation accuracy is almost 82.5%. The training accuracy started at 96% and validation accuracy started at 82.2%. \n",
    "- And, the the traing loss is very low it is below 0.2, however, the validation loss is more, and with respect to training loss it is increasing after some itteration. \n",
    "- The model gives a good result, however, after some itteration it is overfitting.\n",
    "So, we have to prevent the model from overfitting. This is clearly a research probelm, which is to be explored by using CNN."
   ]
  },
  {
   "cell_type": "markdown",
   "metadata": {
    "id": "VOuQI7Atesz3"
   },
   "source": [
    "## <span style=\"font-family: Arial; font-weight:bold;font-size:1 em;color:Purple;\"> 9. Summary\n",
    "<a id='C'></a>"
   ]
  },
  {
   "cell_type": "markdown",
   "metadata": {
    "id": "SygtxlD7nfJi"
   },
   "source": [
    "- The model which has 42000 training samples and 18000 testing samples.\n",
    "- All the images are of size 32 x 32.\n",
    "- The model architecture was built with a flatten layer, some dense layers and an output layer.\n",
    "- After reshaping and normalizing the data points (test and train), one-hot encoding has been performed.\n",
    "- The Dense layers are integrated with ReLu activation and softmax activation has been used in Output layer.\n",
    "- After, building the architecture, the accuracy of the model came around 82%. However, after few itterations the test accuracy remains same with an increasing of loss.\n",
    "- This shows that the model is overfitting after a few epochs.\n",
    "- So, to enhance the accuracy, we have introduced tuning of hyperparameters. \n",
    "- We tried to implement the heperparameters tuning manually 1st.   \n",
    "- The accuracy of the model after tuning was not that much good and the loss was exploding.\n",
    "- Further trial was made to enhance the accuracy by implimenting RandomSearch CV from KerasTuner.\n",
    "- Here we gave a range of values of Hyperparameters like  Number of Hidden layers, Number of Neurons in each layer and learning rates for model.\n",
    "- In this Random Search CV, we've executed total 5 number of trials with 3 number of validations in each trial. So in total we are executing 15 number of executions.\n",
    "- These 15 number of excutions have 50 number of epochs each.\n",
    "- So, after the execution, we got a validation accuracy of 83.05%.\n",
    "- The model is not overfitting. Since, the train and validation accuracy are almost near to each other. (This is the case when Random Search CV is used)\n",
    "- Further scope is there to enhance the model by increasing the number of epochs and by tuning the hyperparameters by expermenting GridSearch CV .      "
   ]
  },
  {
   "cell_type": "markdown",
   "metadata": {
    "id": "13zSufJCnHpT"
   },
   "source": [
    "## <span style=\"font-family: Algerian; font-weight:bold;font-size:2 em;color:Red; center\"> ...The End"
   ]
  }
 ],
 "metadata": {
  "colab": {
   "collapsed_sections": [],
   "name": "Project_NN_CKS_V0.0.ipynb",
   "provenance": []
  },
  "kernelspec": {
   "display_name": "Python 3",
   "language": "python",
   "name": "python3"
  },
  "language_info": {
   "codemirror_mode": {
    "name": "ipython",
    "version": 3
   },
   "file_extension": ".py",
   "mimetype": "text/x-python",
   "name": "python",
   "nbconvert_exporter": "python",
   "pygments_lexer": "ipython3",
   "version": "3.7.6"
  }
 },
 "nbformat": 4,
 "nbformat_minor": 1
}
